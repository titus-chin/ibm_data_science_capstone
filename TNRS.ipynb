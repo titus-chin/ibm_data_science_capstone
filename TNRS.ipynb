{
 "cells": [
  {
   "cell_type": "markdown",
   "metadata": {},
   "source": [
    "# __[Toronto's Neighborhoods Recommender System](https://github.com/titus-chin/Toronto-Neighborhoods-Recommender-System)__\n",
    "<img src=\"https://external-content.duckduckgo.com/iu/?u=https%3A%2F%2Fwww.wallpaperup.com%2Fuploads%2Fwallpapers%2F2013%2F12%2F19%2F199807%2F4d86b2357c55ff2bc433fc0af0705b97.jpg&f=1&nofb=1/toronto.jpeg%E2%80%9D\" alt=\"toronto\" align=\"left\" width=\"600\" />"
   ]
  },
  {
   "cell_type": "markdown",
   "metadata": {},
   "source": [
    "## Table of Contents\n",
    "1. **[Introduction](#introduction)**\n",
    "2. **[Data](#data)**  \n",
    "     2.1 **[Factors to consider while deciding where to settle](#factors)**  \n",
    "     2.2 **[Description of data and data source](#source)**  \n",
    "     2.3 **[Import data and data wrangling](#clean)**  \n",
    "     2.4 **[All dataframes for Toronto's neighborhoods recommender system](#all)**\n",
    "3. **[Methodology](#methodology)**\n",
    "4. **[Results](#results)**\n",
    "5. **[Discussion](#discussion)**\n",
    "6. **[Conclusion](#conclusion)**"
   ]
  },
  {
   "cell_type": "markdown",
   "metadata": {},
   "source": [
    "## 1. Introduction <a name=\"introduction\"></a>\n",
    "According to __[CIC News](https://www.cicnews.com/2020/02/which-cities-in-canada-attract-the-most-immigrants-0213741.html#)__, Canada welcomed more than 341,000 immigrants in 2019 and Toronto has successfully attracted nearly 118,000 immigrants which contribute to almost 35% of the total number of immigrants. **The statistics indicate that most of the immigrants prefer to settle in Toronto over other cities.** Why? __[VisaPlace](https://www.visaplace.com/blog-immigration-law/why-immigrants-settle-in-toronto-heres-10-reasons/)__ has listed out 10 reasons for this question. For me, the most convincing reason is Toronto is Canada’s business and financial capital, that's why immigrants prefer it.\n",
    "\n",
    "Toronto is Canada’s largest city, it has 6 boroughs which are Etobicoke, North York, East York, Central Toronto, York and Scarborough. These 6 boroughs can be further divided into 140 neighborhoods. According to __[City of Toronto](https://www.toronto.ca/community-people/moving-to-toronto/about-toronto/)__, Toronto is one of the most multicultural cities in the world due to its large population of immigrants all over the world, each Toronto's neighborhood might be quite different from one another. **Therefore, out of 140 neighborhoods in Toronto, how can immigrants decide which neighborhood suits them best?** This is exactly what I want to resolve in this project.\n",
    "\n",
    "**In this project, I will try to build a Toronto's neighborhoods recommender system based on 4 factors including job opportunities, affordability, safety and culture.** So, who would be interested in this recommender system? I can say that at least 118,000 people would and I believe that this number will be growing in the future. And of course, I can't wait to find out which neighborhood suit me best too because I wish to migrate to Canada and settle in Toronto in the future. How about you?"
   ]
  },
  {
   "cell_type": "markdown",
   "metadata": {},
   "source": [
    "## 2. Data<a name=\"data\"></a> \n",
    "Previously, I mentioned that the Toronto's neighborhoods recommender system is built on job opportunities, affordability, safety and culture. In this section, I will explain why these factors are important, describe the data that will be used and their source, import and clean the data, and finally list out all the dataframes that will be used to create the Toronto's neighborhoods recommender system."
   ]
  },
  {
   "cell_type": "markdown",
   "metadata": {},
   "source": [
    "### 2.1 Factors to consider while deciding where to settle<a name=\"factors\"></a>\n",
    "* **Job opportunities**: We have to make a living to support ourselves or our family. And I bet we wish to get our dream job right? So, we need to know what are the common jobs for each neighborhood.\n",
    "* **Affordability**: We would like to buy our dream house but how much does it cost? Curious of how much should we earn to afford to live in a specific neighborhood? To answer these questions, we need to know the affordability index for each neighborhood.\n",
    "* **Safety**: We wish to live in a safe and peaceful area but how can we determine if the area is safe? To answer this question, we need to know the crime rate for each neighborhood.\n",
    "* **Culture**: We will talk and eat everyday. If possible, we would like to communicate in our favorite language and eat our favorite food right? And it's even better if our favorite things are just around us. So, it's important to know what are the language spoken most often at home and what are the popular food in each neighborhood."
   ]
  },
  {
   "cell_type": "markdown",
   "metadata": {},
   "source": [
    "### 2.2 Description of data and data source<a name=\"source\"></a>\n",
    "|No.| Data           | Data Description  |   Data Source   | \n",
    "|:-------------| :------------- | :---------- | :----------- |\n",
    "|I. | Common jobs| These data show the common jobs for each neighborhood. The data categorize jobs according to North American Industry Classification System (NAICS) 2012. For example: professional, construction, retail trade, etc. | I extracted the data from the __[2016 Toronto Neighborhood Profiles](https://ckan0.cf.opendata.inter.prod-toronto.ca/download_resource/ef0239b1-832b-4d0b-a1f3-4153e53b189e?format=csv)__. City of Toronto uses the 2016 Canadian Census to provide a portrait of the demographic, social and economic characteristics of the people and households in each Toronto's neighborhood. |\n",
    "|II. | Affordability index| These data show the composite Housing Affordability Index (HAI) for each neighborhood. To calculate the HAI, we need the average house price and household income data for each neighborhood.| I scraped the average house price and household income data current as of October 2020 from __[Realosophy](https://www.realosophy.com/toronto/neighbourhood-map)__. Realosophy is a real estate brokerage company that helps their customers make better decision based on data. |\n",
    "|III. |Crime rate| These data show the crime rate for each neighborhood. | I get the data from the __[Toronto Neighborhood Crime Rates Boundary File](https://data.torontopolice.on.ca/datasets/neighbourhood-crime-rates-boundary-file-?geometry=-79.598%2C43.673%2C-79.158%2C43.760&orderBy=OBJECTID&page=6)__ by calling a REST API from Toronto Police Service. The file contains the 2014-2019 crime data by neighborhood. |\n",
    "|IV. |Language spoken most often at home|  These data show the language spoken most often at home in each neighborhood. For example: English, Spanish, Italian, French, etc.  | I extracted the data from the __[2016 Toronto Neighborhood Profiles](https://ckan0.cf.opendata.inter.prod-toronto.ca/download_resource/ef0239b1-832b-4d0b-a1f3-4153e53b189e?format=csv)__. |\n",
    "|V. |Boundaries of neighborhoods| These data contain the boundary, latitude and longitude coordinate of each neighborhood. | I get the data from __[Boundaries of Toronto's Neighborhoods](https://ckan0.cf.opendata.inter.prod-toronto.ca/download_resource/a083c865-6d60-4d1d-b6c6-b0c8a85f9c15?format=geojson&projection=4326)__. City of Toronto made the data available on its open data portal. |\n",
    "|VI. |Popular food| These data show the popular food categories around each neighborhood according to Foursquare API. For example: Italian restaurant, Korean restaurant, Japanese restaurant, etc. | I get the data through __[Foursquare API](https://developer.foursquare.com/docs/)__. Foursquare is a location technology platform dedicated to improve how people move through the real world. |"
   ]
  },
  {
   "cell_type": "markdown",
   "metadata": {},
   "source": [
    "### 2.3 Import data and data wrangling<a name=\"clean\"></a>"
   ]
  },
  {
   "cell_type": "markdown",
   "metadata": {},
   "source": [
    "#### I. Common jobs data\n",
    "Now, let's import and clean the common jobs data first."
   ]
  },
  {
   "cell_type": "code",
   "execution_count": null,
   "metadata": {},
   "outputs": [],
   "source": [
    "# import necessary library\n",
    "import pandas as pd\n",
    "pd.set_option('display.max_rows',None)\n",
    "pd.set_option('display.max_columns',None)\n",
    "\n",
    "# import the 2016 toronto neighborhood profiles into toronto_df and clean the dataframe\n",
    "toronto_df=pd.read_csv('https://ckan0.cf.opendata.inter.prod-toronto.ca/download_resource/ef0239b1-832b-4d0b-a1f3-4153e53b189e?format=csv')\n",
    "toronto_df.drop(['_id','Category','Data Source','City of Toronto'],axis=1,inplace=True)\n",
    "\n",
    "# extract common jobs data from toronto_df into jobs_df and clean the dataframe\n",
    "topic=['Industry - North American Industry Classification System (NAICS) 2012']\n",
    "index=['Neighbourhood Number']\n",
    "jobs_df=toronto_df[(toronto_df['Topic'].isin(topic))|toronto_df['Characteristic'].isin(index)]\n",
    "jobs_df=jobs_df.drop('Topic',axis=1).set_index('Characteristic').T\n",
    "jobs_df.columns=jobs_df.columns.str.strip()\n",
    "jobs_df=jobs_df.drop(jobs_df.columns[1:4],axis=1).replace(',','',regex=True).astype(int)\n",
    "jobs_df=jobs_df.sort_values(index).rename_axis(None,axis=1).reset_index()\n",
    "jobs_df.rename(columns={'index':'Neighborhood','Neighbourhood Number':'ID',\n",
    "                        '11 Agriculture, forestry, fishing and hunting':'Agriculture',\n",
    "                        '21 Mining, quarrying, and oil and gas extraction':'Mining','22 Utilities':'Utilities',\n",
    "                        '23 Construction':'Construction','31-33 Manufacturing':'Manufacturing',\n",
    "                        '41 Wholesale trade':'Wholesale trade','44-45 Retail trade':'Retail trade',\n",
    "                        '48-49 Transportation and warehousing':'Transportation',\n",
    "                        '51 Information and cultural industries':'Cultural industry',\n",
    "                        '52 Finance and insurance':'Finance','53 Real estate and rental and leasing':'Real estate',\n",
    "                        '54 Professional, scientific and technical services':'Professional',\n",
    "                        '55 Management of companies and enterprises':'Management',\n",
    "                        '56 Administrative and support, waste management and remediation services':'Admin & \\\n",
    "                        support','61 Educational services':'Education','62 Health care and social assistance':\\\n",
    "                        'Health care','71 Arts, entertainment and recreation':'Arts',\n",
    "                        '72 Accommodation and food services':'Accomodation',\n",
    "                        '81 Other services (except public administration)':'Other services',\n",
    "                        '91 Public administration':'Public admin'},inplace=True)\n",
    "print('This dataframe consists of {} jobs!'.format(jobs_df.shape[1]-2))\n",
    "jobs_df.head()"
   ]
  },
  {
   "cell_type": "markdown",
   "metadata": {},
   "source": [
    "Nice! Now, let's convert the counts for each job into percentage."
   ]
  },
  {
   "cell_type": "code",
   "execution_count": null,
   "metadata": {},
   "outputs": [],
   "source": [
    "# define a function to convert the counts to percentage\n",
    "def convert_to_percentage(dataframe):\n",
    "    temp_df=dataframe.copy()\n",
    "    temp_df['Total']=temp_df.iloc[:,2:].sum(axis=1)\n",
    "    for i in range(len(temp_df['ID'])):\n",
    "        temp_df.iloc[i,2:-1]=((temp_df.iloc[i,2:-1]/temp_df.iloc[i,-1])*100).astype(float).round(2)\n",
    "    temp_df.drop('Total',axis=1,inplace=True)\n",
    "    return temp_df\n",
    "\n",
    "# convert the counts to percentage and save the data into percent_jobs_df\n",
    "percent_jobs_df=convert_to_percentage(jobs_df)\n",
    "percent_jobs_df.head()"
   ]
  },
  {
   "cell_type": "markdown",
   "metadata": {},
   "source": [
    "Looks great! Let's get the top 5 common jobs for each neighborhood."
   ]
  },
  {
   "cell_type": "code",
   "execution_count": null,
   "metadata": {
    "scrolled": false
   },
   "outputs": [],
   "source": [
    "# define a function to return a dataframe of top 5 elements\n",
    "def get_top5_elements(dataframe,column_name):\n",
    "    first_element=[]\n",
    "    second_element=[]\n",
    "    third_element=[]\n",
    "    fourth_element=[]\n",
    "    fifth_element=[]\n",
    "    first_column=dataframe.iloc[:,0].values\n",
    "    second_column=dataframe.iloc[:,1].values\n",
    "    for i in range(140):\n",
    "        sorted_elements=dataframe.iloc[i,2:].sort_values(ascending=False).index\n",
    "        first_element.append(sorted_elements[0])\n",
    "        second_element.append(sorted_elements[1])\n",
    "        third_element.append(sorted_elements[2])\n",
    "        fourth_element.append(sorted_elements[3])\n",
    "        fifth_element.append(sorted_elements[4])\n",
    "    return pd.DataFrame({'Neighborhood':first_column,'ID':second_column,\n",
    "                         '1st Most Common {}'.format(column_name):first_element,\n",
    "                         '2nd Most Common {}'.format(column_name):second_element,\n",
    "                         '3rd Most Common {}'.format(column_name):third_element,\n",
    "                         '4th Most Common {}'.format(column_name):fourth_element,\n",
    "                         '5th Most Common {}'.format(column_name):fifth_element})\n",
    "\n",
    "# get top 5 common jobs and save the data into top5_jobs_df\n",
    "top5_jobs_df=get_top5_elements(jobs_df,'Job')\n",
    "top5_jobs_df.head()"
   ]
  },
  {
   "cell_type": "markdown",
   "metadata": {},
   "source": [
    "Cool! Let's normalize the common jobs data."
   ]
  },
  {
   "cell_type": "code",
   "execution_count": null,
   "metadata": {
    "scrolled": false
   },
   "outputs": [],
   "source": [
    "# def a function to normalize data\n",
    "def data_normalization(dataframe):\n",
    "    temp_df=dataframe.copy()\n",
    "    columns_to_normalize=temp_df.columns[2:]\n",
    "    for column in columns_to_normalize:\n",
    "        temp_df[column]=(temp_df[column]/temp_df[column].max())*100\n",
    "    return temp_df\n",
    "\n",
    "# normalize the common jobs data\n",
    "norm_jobs_df=data_normalization(jobs_df)\n",
    "norm_jobs_df.head()"
   ]
  },
  {
   "cell_type": "markdown",
   "metadata": {},
   "source": [
    "Awesome!"
   ]
  },
  {
   "cell_type": "markdown",
   "metadata": {},
   "source": [
    "#### II. Affordability index data\n",
    "To calculate the affordability index for each neighborhood, we need to scrape the average house price and household income from Realosophy. Before scraping these data, we need to get the website links that consist of these information first. So, let's scrape these website links from Realosophy now."
   ]
  },
  {
   "cell_type": "code",
   "execution_count": null,
   "metadata": {},
   "outputs": [],
   "source": [
    "# import necessary libraries\n",
    "from selenium import webdriver\n",
    "from selenium.webdriver.firefox.options import Options\n",
    "import time\n",
    "from bs4 import BeautifulSoup\n",
    "firefox_options=Options()\n",
    "firefox_options.add_argument('-headless')\n",
    "\n",
    "# define a function to scrape each neighborhood's name and website by borough\n",
    "def get_neighborhood_websites(borough):\n",
    "    driver=webdriver.Firefox(options=firefox_options)\n",
    "    driver.get('https://www.realosophy.com/{}-former-toronto/neighbourhood-map'.format(borough))\n",
    "    time.sleep(5)\n",
    "    html=driver.page_source\n",
    "    soup=BeautifulSoup(html,'lxml')\n",
    "    all_data=soup.find('div',{'class':'row mt-4'})\n",
    "    neighborhood_data=all_data.find_all('a')\n",
    "    neighborhood=[]\n",
    "    website=[]\n",
    "    for data in neighborhood_data:\n",
    "        neighborhood.append(data.text)\n",
    "        website_temp=data['href'].replace('/','https://www.realosophy.com/',1)\n",
    "        website.append(website_temp)\n",
    "    driver.quit()\n",
    "    print('...',end='')\n",
    "    return pd.DataFrame({'Neighborhood':neighborhood,'Website':website})\n",
    "\n",
    "# scrape etobicoke's neighborhoods and websites into etobicoke_df then insert neighborhoods id\n",
    "print('Almost...',end='')\n",
    "etobicoke_df=get_neighborhood_websites('etobicoke')\n",
    "etobicoke_df.drop(25,inplace=True)\n",
    "etobicoke_df['ID']=[20,11,1,14,13,17,8,9,14,6,19,12,17,18,10,14,4,7,2,16,5,15,16,3,11]\n",
    "\n",
    "# scrape north york's neighborhoods and websites into northyork_df then insert neighborhoods id\n",
    "northyork_df=get_neighborhood_websites('north-york')\n",
    "northyork_df.loc[len(northyork_df.index)]=northyork_df.loc[31,:]\n",
    "northyork_df.loc[len(northyork_df.index)]=northyork_df.loc[39,:]\n",
    "northyork_df['ID']=[38,42,34,52,49,43,24,41,30,39,33,39,42,47,45,26,44,31,25,45,53,48,41,21,23,22,38,32,41,39,29,\n",
    "                    36,45,23,46,28,43,41,35,37,40,27,31,50,51]\n",
    "\n",
    "# scrape east york's neighborhoods and websites into eastyork_df then insert neighborhoods id\n",
    "eastyork_df=get_neighborhood_websites('east-york')\n",
    "eastyork_df['ID']=[56,57,59,61,56,58,54,55,54,54,60]\n",
    "\n",
    "# scrape central toronto's neighborhoods and websites into centraltoronto_df then insert neighborhoods id\n",
    "centraltoronto_df=get_neighborhood_websites('central-toronto')\n",
    "centraltoronto_df=centraltoronto_df.drop([16,47,69,74]).reset_index(drop=True)\n",
    "centraltoronto_df.loc[len(centraltoronto_df.index)]=centraltoronto_df.loc[39,:]\n",
    "centraltoronto_df.loc[len(centraltoronto_df.index)]=centraltoronto_df.loc[35,:]\n",
    "centraltoronto_df.loc[len(centraltoronto_df.index)]=centraltoronto_df.loc[20,:]\n",
    "centraltoronto_df['ID']=[78,103,76,84,105,80,89,83,71,91,96,100,78,93,75,77,73,66,93,99,97,77,93,83,92,77,77,76,\n",
    "                         101,102,82,77,77,90,87,94,74,78,70,82,81,103,98,73,103,67,96,92,72,68,70,86,98,95,79,77,\n",
    "                         96,85,73,74,77,97,87,105,95,63,67,90,69,81,82,62,93,77,64,75,95,65,88,104]\n",
    "\n",
    "# scrape york's neighborhoods and websites into york_df then insert neighborhoods id\n",
    "york_df=get_neighborhood_websites('york')\n",
    "york_df=york_df.drop(11).reset_index(drop=True)\n",
    "york_df['ID']=[114,112,108,109,106,110,114,115,107,114,111,113]\n",
    "\n",
    "# scrape scarborough's neighborhoods and websites into scarborough_df then insert neighborhoods id\n",
    "scarborough_df=get_neighborhood_websites('scarborough')\n",
    "scarborough_df.loc[len(scarborough_df.index)]=scarborough_df.loc[0,:]\n",
    "scarborough_df['ID']=[128,127,122,120,120,123,122,126,138,140,134,125,124,117,132,119,130,135,135,121,133,131,139,\n",
    "                      116,118,136,131,119,137,129]\n",
    "\n",
    "# concatenate these six boroughs dataframe into website_df\n",
    "website_df=pd.concat([etobicoke_df,northyork_df,eastyork_df,centraltoronto_df,york_df,scarborough_df])\n",
    "website_df=website_df.sort_values('ID').reset_index(drop=True)\n",
    "print('...Done!',end='')\n",
    "website_df.head()"
   ]
  },
  {
   "cell_type": "markdown",
   "metadata": {},
   "source": [
    "Excellent! Now, let's scrape the average house price and household income data from Realosophy and clean the data."
   ]
  },
  {
   "cell_type": "code",
   "execution_count": null,
   "metadata": {},
   "outputs": [],
   "source": [
    "# import necessary library\n",
    "import numpy as np\n",
    "\n",
    "# define a function to get the avg house price or household income in numerical result\n",
    "def get_number_only(data):\n",
    "    result=data.text.strip().replace('$','').replace(',','')\n",
    "    if 'M' in result:\n",
    "        result=int((float(result.replace('M','')))*1000000)\n",
    "        return result\n",
    "    else:\n",
    "        result=int((float(result.replace('K','')))*1000)\n",
    "        return result\n",
    "\n",
    "# scrape average house price and household income for each neighborhood into website_df\n",
    "print('Progress:')\n",
    "driver=webdriver.Firefox(options=firefox_options)\n",
    "website_df['Avg House Price']=0\n",
    "website_df['Avg Household Income']=0\n",
    "for i in range(len(website_df['ID'])):\n",
    "    driver.get(website_df['Website'][i])\n",
    "    time.sleep(5)\n",
    "    html=driver.page_source\n",
    "    soup=BeautifulSoup(html,'lxml')\n",
    "    houseprice_data=soup.find('div',{'class':'key-stats__avg-sale-price ng-binding ng-scope'})\n",
    "    income_class='h3 font-sans-caption-bold mb-0 text-center text-sm-left ng-binding ng-scope'\n",
    "    income_data=soup.find('p',{'class':income_class})\n",
    "    while houseprice_data==None or income_data==None:\n",
    "        driver.get(website_df['Website'][i])\n",
    "        time.sleep(5)\n",
    "        html=driver.page_source\n",
    "        soup=BeautifulSoup(html,'lxml')\n",
    "        houseprice_data=soup.find('div',{'class':'key-stats__avg-sale-price ng-binding ng-scope'})\n",
    "        income_data=soup.find('p',{'class':income_class})\n",
    "    website_df.iloc[i,3]=get_number_only(houseprice_data)\n",
    "    website_df.iloc[i,4]=get_number_only(income_data)\n",
    "    print('.',end='')\n",
    "driver.quit()\n",
    "\n",
    "# group website_df by neighborhood id and save the data into houseprice_df\n",
    "website_df.drop('Neighborhood',axis=1,inplace=True)\n",
    "website_df=website_df.groupby('ID').mean().reset_index()\n",
    "website_df['Avg House Price']=website_df['Avg House Price'].astype(int)\n",
    "website_df['Avg Household Income']=website_df['Avg Household Income'].astype(int)\n",
    "houseprice_df=jobs_df.iloc[:,0:2]\n",
    "houseprice_df['Avg House Price']=website_df['Avg House Price']\n",
    "houseprice_df['Avg Household Income']=website_df['Avg Household Income']\n",
    "print('...Done!')\n",
    "houseprice_df.head()"
   ]
  },
  {
   "cell_type": "markdown",
   "metadata": {},
   "source": [
    "Superb! Now, let's calculate the composite __[Housing Affordability Index (HAI)](https://www.frbsf.org/education/publications/doctor-econ/2003/december/housing-affordability-index/)__ for each neighborhood by using this formula:\n",
    "___\n",
    "$ \\ \\ \\ \\ \\ \\ \\ \\ \\ \\ \\ \\ \\ \\ \\ \\ \\ \\ \\ \\ \\ \\ \\ \\ \\ \\ \\ Housing\\ Affordability\\ Index\\ (HAI)\\ =\\ \\frac{median\\ household\\ income}{qualifying\\ income}\\ x\\ 100$  \n",
    "\n",
    "Assumption:  \n",
    "a. The average house price and household income are equal to the median house price and household income.  \n",
    "b. The __[effective mortgage rates](https://www.ratehub.ca/best-mortgage-rates/1-year/fixed?scenario=purchase&home_price=1000000&down_payment_percent=0.2&downPayment=200000&approximateMortgageAmount=800000&amount=800000&amortization=25&live_in_property=true&pre_approval=false)__ is 2%.  \n",
    "c. Home buyers make a 20% __[down payment](https://www.canada.ca/en/financial-consumer-agency/services/mortgages/down-payment.html)__.  \n",
    "d. The maximum monthly mortgage payment is 25% of gross monthly income.\n",
    "___\n",
    "If a neighborhood's Housing Affordability Index (HAI) is higher than 100, it means that most of the residents are able to afford a house in the neighborhood, the greater the HAI, the higher the housing affordability. However, if a neighborhood's HAI is lower than 100, it means that most of the residents are unable to afford a house in the neighborhood, the lower the HAI, the lower the housing affordability."
   ]
  },
  {
   "cell_type": "code",
   "execution_count": null,
   "metadata": {
    "scrolled": false
   },
   "outputs": [],
   "source": [
    "# calculate the hai for each neighborhood and save the data into affordability_df\n",
    "mortgage_payment=houseprice_df['Avg House Price']*0.8*(0.02/12)/(1-(1/(1+0.02/12)**360))\n",
    "qualifying_income=mortgage_payment*4*12\n",
    "affordability_df=houseprice_df.iloc[:,0:2]\n",
    "affordability_df['HAI']=(houseprice_df['Avg Household Income']/qualifying_income)*100\n",
    "affordability_df.head()"
   ]
  },
  {
   "cell_type": "markdown",
   "metadata": {},
   "source": [
    "Great! Now, let's normalize the Housing Affordability Index (HAI)."
   ]
  },
  {
   "cell_type": "code",
   "execution_count": null,
   "metadata": {},
   "outputs": [],
   "source": [
    "# normalize the hai and save the data into norm_affordability_df\n",
    "norm_affordability_df=data_normalization(affordability_df)\n",
    "norm_affordability_df.head()"
   ]
  },
  {
   "cell_type": "markdown",
   "metadata": {},
   "source": [
    "Cool! Let's convert the value of Housing Affordability Index (HAI) into integer."
   ]
  },
  {
   "cell_type": "code",
   "execution_count": null,
   "metadata": {},
   "outputs": [],
   "source": [
    "# convert hai into integer\n",
    "affordability_df['HAI']=affordability_df['HAI'].astype(int)\n",
    "affordability_df.head()"
   ]
  },
  {
   "cell_type": "markdown",
   "metadata": {},
   "source": [
    "Awesome!"
   ]
  },
  {
   "cell_type": "markdown",
   "metadata": {},
   "source": [
    "#### III. Crime rate data\n",
    "Now, let's get the crimes data by calling a REST API from Toronto Police Service and clean the data."
   ]
  },
  {
   "cell_type": "code",
   "execution_count": null,
   "metadata": {
    "scrolled": false
   },
   "outputs": [],
   "source": [
    "# import necessary libraries\n",
    "import requests\n",
    "from pandas.io.json import json_normalize\n",
    "\n",
    "# request the crimes data by using toronto police service's api and clean the data\n",
    "url='https://services.arcgis.com/S9th0jAJ7bqgIRjw/arcgis/rest/services/Neighbourhood_MCI/FeatureServer/0/query?where=1%3D1&outFields=Neighbourhood,Hood_ID,Population,Assault_AVG,AutoTheft_AVG,Homicide_AVG,TheftOver_AVG,BreakandEnter_AVG,Robbery_AVG&outSR=4326&f=json'\n",
    "results=requests.get(url).json()\n",
    "crime_data=results['features']\n",
    "crime_df=json_normalize(crime_data)\n",
    "crime_df.drop('geometry.rings',axis=1,inplace=True)\n",
    "crime_df.columns=(pd.Series(crime_df.columns)).replace('attributes.','',regex=True)\n",
    "crime_df.rename(columns={'Neighbourhood':'Neighborhood','Hood_ID':'ID'},inplace=True)\n",
    "crime_df['ID']=crime_df['ID'].astype(int)\n",
    "crime_df=crime_df.sort_values('ID').reset_index(drop=True)\n",
    "crime_df['Neighborhood']=jobs_df['Neighborhood']\n",
    "crime_df.head()"
   ]
  },
  {
   "cell_type": "markdown",
   "metadata": {},
   "source": [
    "Great! Now, let's calculate the __[crime rate](https://www.azcalculator.com/formula/crime-rate-calculator.php)__ for each neighborhood by using this formula:\n",
    "___\n",
    "$ \\ \\ \\ \\ \\ \\ \\ \\ \\ \\ \\ \\ \\ \\ \\ \\ \\ crime\\ rate\\ =\\ \\frac{number\\ of\\ crimes}{population}\\ x\\ 100,000\\ people $\n",
    "___"
   ]
  },
  {
   "cell_type": "code",
   "execution_count": null,
   "metadata": {},
   "outputs": [],
   "source": [
    "# calculate the crime rate for each neighborhood\n",
    "for column in crime_df.columns[3:]:\n",
    "    crime_df[column]=(crime_df[column]/crime_df['Population'])*100000\n",
    "crime_df['Crime Rate']=crime_df.iloc[:,3:].sum(axis=1)\n",
    "crime_df.drop(crime_df.columns[2:-1],axis=1,inplace=True)\n",
    "crime_df.head()"
   ]
  },
  {
   "cell_type": "markdown",
   "metadata": {},
   "source": [
    "Cool! Now, let's normalize the crime rate data for each neighborhood."
   ]
  },
  {
   "cell_type": "code",
   "execution_count": null,
   "metadata": {},
   "outputs": [],
   "source": [
    "# normalize the crime rate data and save the data into norm_crime_df\n",
    "norm_crime_df=crime_df.copy()\n",
    "norm_crime_df['Crime Rate']=(norm_crime_df['Crime Rate'].min()/norm_crime_df['Crime Rate'])*100\n",
    "norm_crime_df.head()"
   ]
  },
  {
   "cell_type": "markdown",
   "metadata": {},
   "source": [
    "Nice! Now, let's convert the value of crime rate into integer."
   ]
  },
  {
   "cell_type": "code",
   "execution_count": null,
   "metadata": {},
   "outputs": [],
   "source": [
    "# convert crime rate into integer\n",
    "crime_df['Crime Rate']=crime_df['Crime Rate'].astype(int)\n",
    "crime_df.head()"
   ]
  },
  {
   "cell_type": "markdown",
   "metadata": {},
   "source": [
    "Nice!"
   ]
  },
  {
   "cell_type": "markdown",
   "metadata": {},
   "source": [
    "#### IV. Language spoken most often at home data\n",
    "Now, let's import and clean the language spoken most often at home data first."
   ]
  },
  {
   "cell_type": "code",
   "execution_count": null,
   "metadata": {},
   "outputs": [],
   "source": [
    "# extract language spoken most often at home data from toronto_df into language_df and clean the dataframe\n",
    "topic=['Language spoken most often at home']\n",
    "index=['Neighbourhood Number']\n",
    "language_df=toronto_df[(toronto_df['Topic'].isin(topic))|toronto_df['Characteristic'].isin(index)]\n",
    "language_df=language_df.drop('Topic',axis=1).set_index('Characteristic').T.replace(',','',regex=True).astype(int)\n",
    "language_df.sort_values(index,inplace=True)\n",
    "language_df.columns=language_df.columns.str.strip()\n",
    "condition=(language_df.sum()==0)\n",
    "for i in range(condition.shape[0]):\n",
    "    if(condition[i])|('response'in condition.index[i].lower())|('language'in condition.index[i].lower())\\\n",
    "    |('n.o.s'in condition.index[i].lower())|('number'in condition.index[i].lower())==True:\n",
    "        language_df.drop(condition.index[i],axis=1,inplace=True)\n",
    "language_df.drop('English and French',axis=1,inplace=True)\n",
    "language_df.insert(loc=0,column='ID',value=jobs_df['ID'].values) \n",
    "language_df=language_df.rename_axis(None,axis=1).reset_index()\n",
    "language_df=language_df.rename(columns={'index':'Neighborhood','Tagalog (Pilipino, Filipino)':'Tagalog',\n",
    "                                        'Punjabi (Panjabi)':'Punjabi','Assyrian Neo-Aramaic':'Assyrian',\n",
    "                                        'Persian (Farsi)':'Persian',\n",
    "                                        'Min Nan (Chaochow, Teochow, Fukien, Taiwanese)':'Min Nan'})\n",
    "print('This dataframe consists of {} languages!'.format(language_df.shape[1]-2))\n",
    "language_df.head()"
   ]
  },
  {
   "cell_type": "markdown",
   "metadata": {},
   "source": [
    "Nice! Now, let's convert the counts for each language into percentage."
   ]
  },
  {
   "cell_type": "code",
   "execution_count": null,
   "metadata": {},
   "outputs": [],
   "source": [
    "# convert the counts to percentage and save the data into percent_language_df\n",
    "percent_language_df=convert_to_percentage(language_df)\n",
    "percent_language_df.head()"
   ]
  },
  {
   "cell_type": "markdown",
   "metadata": {},
   "source": [
    "Cool! Let's get the top 5 languages for each neighborhood."
   ]
  },
  {
   "cell_type": "code",
   "execution_count": null,
   "metadata": {
    "scrolled": false
   },
   "outputs": [],
   "source": [
    "# get the top 5 languages for each neighborhood and save the data into top5_language_df\n",
    "top5_language_df=get_top5_elements(language_df,'Language')\n",
    "top5_language_df.head()"
   ]
  },
  {
   "cell_type": "markdown",
   "metadata": {},
   "source": [
    "Awesome! Now, let's normalize the language spoken most often at home data."
   ]
  },
  {
   "cell_type": "code",
   "execution_count": null,
   "metadata": {},
   "outputs": [],
   "source": [
    "# normalize the language spoken most often at home data and save the data into norm_language_df\n",
    "norm_language_df=data_normalization(language_df)\n",
    "norm_language_df.head()"
   ]
  },
  {
   "cell_type": "markdown",
   "metadata": {},
   "source": [
    "Great!"
   ]
  },
  {
   "cell_type": "markdown",
   "metadata": {},
   "source": [
    "#### V. Boundaries of neighborhoods data\n",
    "Now let's import and clean the boundary data first."
   ]
  },
  {
   "cell_type": "code",
   "execution_count": null,
   "metadata": {
    "scrolled": false
   },
   "outputs": [],
   "source": [
    "# import boundary data into boundary_df and clean the dataframe\n",
    "url='https://ckan0.cf.opendata.inter.prod-toronto.ca/download_resource/a083c865-6d60-4d1d-b6c6-b0c8a85f9c15?format=geojson&projection=4326'\n",
    "toronto_geojson=requests.get(url).json()\n",
    "boundary_data=toronto_geojson['features']\n",
    "boundary_df=json_normalize(boundary_data)\n",
    "boundary_df=pd.DataFrame({'Neighborhood':boundary_df['properties.AREA_NAME'],\n",
    "                          'ID':boundary_df['properties.AREA_SHORT_CODE'],\n",
    "                          'Latitude':boundary_df['properties.LATITUDE'],\n",
    "                          'Longitude':boundary_df['properties.LONGITUDE']})\n",
    "boundary_df=boundary_df.sort_values('ID').reset_index(drop=True)\n",
    "boundary_df.iloc[:,0]=jobs_df.iloc[:,0]\n",
    "boundary_df.head()"
   ]
  },
  {
   "cell_type": "markdown",
   "metadata": {},
   "source": [
    "Nice! Now, let's visualize the boundary of each neighborhood on a map."
   ]
  },
  {
   "cell_type": "code",
   "execution_count": null,
   "metadata": {},
   "outputs": [],
   "source": [
    "# import necessary libraries\n",
    "import geocoder\n",
    "import plotly.express as px\n",
    "\n",
    "# visualize the boundary of each neighborhood on toronto_map\n",
    "g=geocoder.osm('Toronto,Ontario')\n",
    "toronto_map=px.choropleth_mapbox(norm_jobs_df,\n",
    "                                 geojson=toronto_geojson,\n",
    "                                 locations='ID',\n",
    "                                 featureidkey='properties.AREA_SHORT_CODE',\n",
    "                                 mapbox_style='carto-positron',\n",
    "                                 hover_data=['Neighborhood'],\n",
    "                                 zoom=10,\n",
    "                                 center={'lat':g.latlng[0],'lon':g.latlng[1]},\n",
    "                                 opacity=0.5)\n",
    "hovertemplate='<br>%{customdata}'\n",
    "toronto_map.data[0]['hovertemplate']=hovertemplate\n",
    "toronto_map.update_layout(margin={'r':0,'t':0,'l':0,'b':0})\n",
    "toronto_map"
   ]
  },
  {
   "cell_type": "markdown",
   "metadata": {},
   "source": [
    "Superb!"
   ]
  },
  {
   "cell_type": "markdown",
   "metadata": {},
   "source": [
    "#### VI. Popular food data\n",
    "Now, let's get the popular food data for each neighborhood by using Foursquare API."
   ]
  },
  {
   "cell_type": "code",
   "execution_count": null,
   "metadata": {
    "scrolled": false
   },
   "outputs": [],
   "source": [
    "# get the popular food data using foursquare api and save the data into food_df\n",
    "print('Progress:')\n",
    "food_df=pd.DataFrame(columns=['ID','Popular Food'])\n",
    "for i in range(len(boundary_df['ID'])):\n",
    "    url='https://api.foursquare.com/v2/venues/explore'\n",
    "    params=dict(client_id='VCPPKYR4FRVFQDA22KSFIEHL0501YTNVH0KIEXLQT4VI4HHM',\n",
    "                client_secret='XXHQWCHMWZFJ0SKUAGBNJIKK50X0TO2A0CAASVHA305H4RWA',\n",
    "                v='20201117',\n",
    "                ll='{},{}'.format(boundary_df['Latitude'][i],boundary_df['Longitude'][i]),\n",
    "                categoryId='4d4b7105d754a06374d81259',\n",
    "                radius=5000,\n",
    "                time='any',\n",
    "                day='any',\n",
    "                limit=50)\n",
    "    results=requests.get(url=url,params=params).json()['response']['groups'][0]['items']\n",
    "    food_data=[]\n",
    "    for j in range(len(results)):\n",
    "        food_data.append(results[j]['venue']['categories'][0]['name'])\n",
    "    temp_df=pd.DataFrame({'ID':boundary_df.iloc[i,1],'Popular Food':food_data})\n",
    "    food_df=pd.concat([food_df,temp_df],ignore_index=True)\n",
    "    print('.',end='')\n",
    "print('...done!')\n",
    "temp_df=pd.get_dummies(data=food_df['Popular Food'],prefix_sep=\"\")\n",
    "temp_df.insert(0,'ID',food_df['ID'])\n",
    "food_df=temp_df.groupby('ID',as_index=False).sum()\n",
    "food_df.insert(0,'Neighborhood',boundary_df['Neighborhood'])\n",
    "food_df.drop('Food',axis=1,inplace=True)\n",
    "print('This dataframe consists of {} food categories!'.format(food_df.shape[1]-2))\n",
    "food_df.head()"
   ]
  },
  {
   "cell_type": "markdown",
   "metadata": {},
   "source": [
    "Awesome! Let's convert the counts for each food category into percentage."
   ]
  },
  {
   "cell_type": "code",
   "execution_count": null,
   "metadata": {},
   "outputs": [],
   "source": [
    "# convert counts into percentage and save the data into percent_food_df\n",
    "percent_food_df=convert_to_percentage(food_df)\n",
    "percent_food_df.head()"
   ]
  },
  {
   "cell_type": "markdown",
   "metadata": {},
   "source": [
    "Great! Now, let's get the top 5 food categories for each neighborhood."
   ]
  },
  {
   "cell_type": "code",
   "execution_count": null,
   "metadata": {},
   "outputs": [],
   "source": [
    "# get the top 5 food categories and save the data into top5_food_df\n",
    "top5_food_df=get_top5_elements(food_df,'Food')\n",
    "top5_food_df.head()"
   ]
  },
  {
   "cell_type": "markdown",
   "metadata": {},
   "source": [
    "Cool! Now, let's normalize the popular food data."
   ]
  },
  {
   "cell_type": "code",
   "execution_count": null,
   "metadata": {},
   "outputs": [],
   "source": [
    "# normalize the popular food data and save the data into norm_food_df\n",
    "norm_food_df=data_normalization(food_df)\n",
    "norm_food_df.head()"
   ]
  },
  {
   "cell_type": "markdown",
   "metadata": {},
   "source": [
    "Nice!"
   ]
  },
  {
   "cell_type": "markdown",
   "metadata": {},
   "source": [
    "### 2.4 All dataframes for Toronto's neighborhoods recommender system<a name=\"all\"></a>"
   ]
  },
  {
   "cell_type": "markdown",
   "metadata": {},
   "source": [
    "Let's merge all the dataframes consist of numerical values only first."
   ]
  },
  {
   "cell_type": "markdown",
   "metadata": {},
   "source": [
    "Superb! Now we are ready to build a Toronto's neighborhoods recommender system!"
   ]
  },
  {
   "cell_type": "markdown",
   "metadata": {},
   "source": [
    "## 3. Methodology<a name=\"methodology\"></a>"
   ]
  },
  {
   "cell_type": "code",
   "execution_count": null,
   "metadata": {},
   "outputs": [],
   "source": [
    "# draw selected neighborhood\n",
    "selected_geojson=toronto_geojson.copy()\n",
    "for feature in selected_geojson['features']:\n",
    "    if feature['properties']['AREA_SHORT_CODE']==1:\n",
    "        selected_geojson['features']=[feature]\n",
    "data_selected={'ID':[selected_geojson['features'][0]['properties']['AREA_SHORT_CODE']],\n",
    "               'Neighborhood':norm_jobs_df['Neighborhood'][0]}\n",
    "fig_temp=px.choropleth_mapbox(data_selected,\n",
    "                              geojson=selected_geojson,\n",
    "                              locations='ID',\n",
    "                              featureidkey='properties.AREA_SHORT_CODE',\n",
    "                              mapbox_style=\"carto-positron\",\n",
    "                              hover_data=['Neighborhood'],\n",
    "                              zoom=10,\n",
    "                              center={'lat':g.latlng[0],'lon':g.latlng[1]},\n",
    "                              opacity=1)\n",
    "fig.add_trace(fig_temp.data[0])\n",
    "hovertemplate='<br>%{customdata}'\\\n",
    "              '<extra></extra>'\n",
    "fig.data[1]['hovertemplate']=hovertemplate"
   ]
  },
  {
   "cell_type": "markdown",
   "metadata": {},
   "source": [
    "## 4. Results<a name=\"results\"></a>"
   ]
  },
  {
   "cell_type": "markdown",
   "metadata": {},
   "source": [
    "## 5. Discussion<a name=\"discussion\"></a>"
   ]
  },
  {
   "cell_type": "markdown",
   "metadata": {},
   "source": [
    "## 6. Conclusion<a name=\"conclusion\"></a>"
   ]
  },
  {
   "cell_type": "markdown",
   "metadata": {},
   "source": [
    "### Thank you for reading this notebook! Feel free to read the __[report](https://github.com/titus-chin/Toronto-Neighborhoods-Recommender-System/blob/main/TNRS.pdf)__ and the __[blogpost]()__ too! \n",
    "\n",
    "## Author  \n",
    "__[Titus Chin Jun Hong](https://www.linkedin.com/in/titus-chin-a17ba41bb?lipi=urn%3Ali%3Apage%3Ad_flagship3_profile_view_base_contact_details%3BsLjmV3x9QaG9sLprGF5OBA%3D%3D)__   \n",
    "**23 November 2020**"
   ]
  }
 ],
 "metadata": {
  "kernelspec": {
   "display_name": "Python 3",
   "language": "python",
   "name": "python3"
  },
  "language_info": {
   "codemirror_mode": {
    "name": "ipython",
    "version": 3
   },
   "file_extension": ".py",
   "mimetype": "text/x-python",
   "name": "python",
   "nbconvert_exporter": "python",
   "pygments_lexer": "ipython3",
   "version": "3.8.5"
  }
 },
 "nbformat": 4,
 "nbformat_minor": 4
}
