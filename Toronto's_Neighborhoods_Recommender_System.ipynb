{
 "cells": [
  {
   "cell_type": "markdown",
   "metadata": {},
   "source": [
    "# Toronto's Neighborhoods Recommender System\n",
    "<img src=\"https://external-content.duckduckgo.com/iu/?u=https%3A%2F%2Fwww.wallpaperup.com%2Fuploads%2Fwallpapers%2F2013%2F12%2F19%2F199807%2F4d86b2357c55ff2bc433fc0af0705b97.jpg&f=1&nofb=1/toronto.jpeg%E2%80%9D\" alt=\"toronto\" align=\"left\" width=\"600\" />"
   ]
  },
  {
   "cell_type": "markdown",
   "metadata": {},
   "source": [
    "## Table of Contents\n",
    "1. **[Introduction](#introduction)**\n",
    "2. **[Data](#data)**  \n",
    "3. **[Methodology](#methodology)**\n",
    "4. **[Results](#results)**\n",
    "5. **[Discussion](#discussion)**\n",
    "6. **[Conclusion](#conclusion)**"
   ]
  },
  {
   "cell_type": "markdown",
   "metadata": {},
   "source": [
    "## 1. Introduction<a name=\"introduction\"></a>\n",
    "According to __[CIC News](https://www.cicnews.com/2020/02/which-cities-in-canada-attract-the-most-immigrants-0213741.html#)__, Canada welcomed more than 341,000 immigrants in 2019 and Toronto has successfully attracted nearly 118,000 immigrants which contribute to almost 35% of the total number of immigrants. **The statistics indicate that most of the immigrants prefer to settle in Toronto over other cities.** Why? __[VisaPlace](https://www.visaplace.com/blog-immigration-law/why-immigrants-settle-in-toronto-heres-10-reasons/)__ has listed out 10 reasons for this question. For me, the most convincing reason is Toronto is Canada’s business and financial capital, that's why immigrants prefer it.\n",
    "\n",
    "Toronto is Canada’s largest city, it has 6 boroughs which are Etobicoke, North York, East York, Central Toronto, York and Scarborough. These 6 boroughs can be further divided into 140 neighborhoods. According to __[City of Toronto](https://www.toronto.ca/community-people/moving-to-toronto/about-toronto/)__, Toronto is one of the most multicultural cities in the world due to its large population of immigrants all over the world, each Toronto's neighborhood might be quite different from one another. **Therefore, out of 140 neighborhoods in Toronto, how can immigrants decide which neighborhood suits them best?** This is exactly what I want to resolve in this project.\n",
    "\n",
    "**In this project, I will try to build a Toronto's neighborhoods recommender system based on 4 factors including job opportunities, cost of living, safety and culture.** So, who would be interested in this recommender system? I can say that at least 118,000 people would and I believe that this number will be growing in the future. And of course, I can't wait to find out which neighborhood suit me best too because I wish to migrate to Canada and settle in Toronto in the future. How about you?"
   ]
  },
  {
   "cell_type": "markdown",
   "metadata": {},
   "source": [
    "## 2. Data<a name=\"data\"></a> \n",
    "Previously, I mentioned that the Toronto's neighborhoods recommender system is built on job opportunities, cost of living, safety and culture. In this section, I will explain why these factors are important, describe the data that will be used and their source, finally import and clean the data."
   ]
  },
  {
   "cell_type": "markdown",
   "metadata": {},
   "source": [
    "### A. Factors to consider while deciding where to settle\n",
    "* **Job opportunities**: We have to make a living to support ourselves or our family. And I bet we wish to get our dream job right? So, we need to know what are the common jobs for each neighborhood.\n",
    "* **Cost of living**: We would like to buy our dream house but how much does it cost? Curious of how much should we earn to afford to live in a specific neighborhood? To answer these questions, we need to know the average house price and household income for each neighborhood.\n",
    "* **Safety**: We wish to live in a safe and peaceful area but how can we determine if the area is safe? To answer these questions, we need to know the crime rate for each neighborhood.\n",
    "* **Culture**: We will talk and eat everyday. If possible, we would like to communicate in our favorite language and eat our favorite food right? And it's even better if our favorite things are just around us. So, it's important to know what are the language spoken most often at home and what are the popular food in each neighborhood."
   ]
  },
  {
   "cell_type": "markdown",
   "metadata": {},
   "source": [
    "### B. Description of data and data source\n",
    "|No.| Data           | Data Description  |   Data Source   | \n",
    "|:-------------| :------------- | :---------- | :----------- |\n",
    "|I. | Common jobs| These data show the common jobs for each neighborhood. The data categorize jobs according to North American Industry Classification System (NAICS) 2012. For example: 54-Professional, scientific and technical services, 23-Construction, etc. | I extracted the data from the __[2016 Toronto Neighborhood Profiles](https://ckan0.cf.opendata.inter.prod-toronto.ca/download_resource/ef0239b1-832b-4d0b-a1f3-4153e53b189e?format=csv)__. City of Toronto uses the 2016 Canadian Census to provide a portrait of the demographic, social and economic characteristics of the people and households in each Toronto's neighbourhood. |\n",
    "|II. | Average house price and household income | These data show the average house price and household income for each neighborhood in Canadian Dollar (CAD). The home affordability for each neighborhood also calculated.| I scraped the data current as of October 2020 from __[Realosophy](https://www.realosophy.com/toronto/neighbourhood-map)__. Realosophy is a real estate brokerage company that helps their customers make better decision based on data. |\n",
    "|III. |Crime rate| These data show the crime rate per 100,000 people for each neighborhood. | I get the data from the __[Toronto Neighborhood Crime Rates Boundary File](https://data.torontopolice.on.ca/datasets/neighbourhood-crime-rates-boundary-file-?geometry=-79.598%2C43.673%2C-79.158%2C43.760&orderBy=OBJECTID&page=6)__ by calling a REST API from Toronto Police Service. The file contains the 2014-2019 crime data by neighbourhood. |\n",
    "|IV. |Language spoken most often at home|  These data show the language spoken most often at home in each neighborhood. For example: English, Spanish, Italian, French, etc.  | I extracted the data from the __[2016 Toronto Neighborhood Profiles](https://ckan0.cf.opendata.inter.prod-toronto.ca/download_resource/ef0239b1-832b-4d0b-a1f3-4153e53b189e?format=csv)__. |\n",
    "|V. |Popular food| These data show the popular food categories around each neighborhood according to Foursquare API. For example: Italian food, Korean food, Japanese food, etc. | I get the data through __[Foursqure API](https://developer.foursquare.com/docs/)__. Foursquare is a location technology platform dedicated to improve how people move through the real world. |\n",
    "|VI. |Boundaries of neighborhoods| These data contain the boundary of each neighborhood in GeoJSON file. These data are used to create the boundary of each neighborhood on a map. | I get the data from __[Boundaries of Toronto's Neighbourhoods](https://ckan0.cf.opendata.inter.prod-toronto.ca/download_resource/a083c865-6d60-4d1d-b6c6-b0c8a85f9c15?format=geojson&projection=4326)__. City of Toronto made the data available on its open data portal. |"
   ]
  },
  {
   "cell_type": "markdown",
   "metadata": {},
   "source": [
    "### C. Import data and data wrangling"
   ]
  },
  {
   "cell_type": "markdown",
   "metadata": {},
   "source": [
    "#### I. Common jobs data\n",
    "Now, let's import and clean the common jobs data first."
   ]
  },
  {
   "cell_type": "code",
   "execution_count": 1,
   "metadata": {},
   "outputs": [],
   "source": [
    "# import necessary library\n",
    "import pandas as pd\n",
    "pd.set_option('display.max_rows',None)\n",
    "pd.set_option('display.max_columns',None)"
   ]
  },
  {
   "cell_type": "code",
   "execution_count": 2,
   "metadata": {},
   "outputs": [],
   "source": [
    "# define a function to return a dataframe of top 5 elements\n",
    "def get_top5_elements(dataframe,column_name):\n",
    "    first_element=[]\n",
    "    second_element=[]\n",
    "    third_element=[]\n",
    "    fourth_element=[]\n",
    "    fifth_element=[]\n",
    "    first_column=dataframe.iloc[:,0].values\n",
    "    second_column=dataframe.iloc[:,1].values\n",
    "    for i in range(140):\n",
    "        sorted_elements=dataframe.iloc[i,2:].sort_values(ascending=False).index\n",
    "        first_element.append(sorted_elements[0])\n",
    "        second_element.append(sorted_elements[1])\n",
    "        third_element.append(sorted_elements[2])\n",
    "        fourth_element.append(sorted_elements[3])\n",
    "        fifth_element.append(sorted_elements[4])\n",
    "    return pd.DataFrame({'Neighborhood':first_column,'ID':second_column,'1st Most Common {}'.format(column_name):first_element,\n",
    "                         '2nd Most Common {}'.format(column_name):second_element,'3rd Most Common {}'.format(column_name):third_element,\n",
    "                         '4th Most Common {}'.format(column_name):fourth_element,'5th Most Common {}'.format(column_name):fifth_element})"
   ]
  },
  {
   "cell_type": "code",
   "execution_count": 3,
   "metadata": {
    "scrolled": false
   },
   "outputs": [
    {
     "data": {
      "text/html": [
       "<div>\n",
       "<style scoped>\n",
       "    .dataframe tbody tr th:only-of-type {\n",
       "        vertical-align: middle;\n",
       "    }\n",
       "\n",
       "    .dataframe tbody tr th {\n",
       "        vertical-align: top;\n",
       "    }\n",
       "\n",
       "    .dataframe thead th {\n",
       "        text-align: right;\n",
       "    }\n",
       "</style>\n",
       "<table border=\"1\" class=\"dataframe\">\n",
       "  <thead>\n",
       "    <tr style=\"text-align: right;\">\n",
       "      <th></th>\n",
       "      <th>Neighborhood</th>\n",
       "      <th>ID</th>\n",
       "      <th>1st Most Common Job</th>\n",
       "      <th>2nd Most Common Job</th>\n",
       "      <th>3rd Most Common Job</th>\n",
       "      <th>4th Most Common Job</th>\n",
       "      <th>5th Most Common Job</th>\n",
       "    </tr>\n",
       "  </thead>\n",
       "  <tbody>\n",
       "    <tr>\n",
       "      <th>0</th>\n",
       "      <td>West Humber-Clairville</td>\n",
       "      <td>1</td>\n",
       "      <td>31-33 Manufacturing</td>\n",
       "      <td>44-45 Retail trade</td>\n",
       "      <td>48-49 Transportation and warehousing</td>\n",
       "      <td>62 Health care and social assistance</td>\n",
       "      <td>56 Administrative and support, waste managemen...</td>\n",
       "    </tr>\n",
       "    <tr>\n",
       "      <th>1</th>\n",
       "      <td>Mount Olive-Silverstone-Jamestown</td>\n",
       "      <td>2</td>\n",
       "      <td>31-33 Manufacturing</td>\n",
       "      <td>44-45 Retail trade</td>\n",
       "      <td>62 Health care and social assistance</td>\n",
       "      <td>48-49 Transportation and warehousing</td>\n",
       "      <td>72 Accommodation and food services</td>\n",
       "    </tr>\n",
       "    <tr>\n",
       "      <th>2</th>\n",
       "      <td>Thistletown-Beaumond Heights</td>\n",
       "      <td>3</td>\n",
       "      <td>31-33 Manufacturing</td>\n",
       "      <td>44-45 Retail trade</td>\n",
       "      <td>48-49 Transportation and warehousing</td>\n",
       "      <td>23 Construction</td>\n",
       "      <td>62 Health care and social assistance</td>\n",
       "    </tr>\n",
       "    <tr>\n",
       "      <th>3</th>\n",
       "      <td>Rexdale-Kipling</td>\n",
       "      <td>4</td>\n",
       "      <td>44-45 Retail trade</td>\n",
       "      <td>31-33 Manufacturing</td>\n",
       "      <td>62 Health care and social assistance</td>\n",
       "      <td>56 Administrative and support, waste managemen...</td>\n",
       "      <td>48-49 Transportation and warehousing</td>\n",
       "    </tr>\n",
       "    <tr>\n",
       "      <th>4</th>\n",
       "      <td>Elms-Old Rexdale</td>\n",
       "      <td>5</td>\n",
       "      <td>44-45 Retail trade</td>\n",
       "      <td>31-33 Manufacturing</td>\n",
       "      <td>62 Health care and social assistance</td>\n",
       "      <td>48-49 Transportation and warehousing</td>\n",
       "      <td>56 Administrative and support, waste managemen...</td>\n",
       "    </tr>\n",
       "  </tbody>\n",
       "</table>\n",
       "</div>"
      ],
      "text/plain": [
       "                        Neighborhood  ID  1st Most Common Job  \\\n",
       "0             West Humber-Clairville   1  31-33 Manufacturing   \n",
       "1  Mount Olive-Silverstone-Jamestown   2  31-33 Manufacturing   \n",
       "2       Thistletown-Beaumond Heights   3  31-33 Manufacturing   \n",
       "3                    Rexdale-Kipling   4   44-45 Retail trade   \n",
       "4                   Elms-Old Rexdale   5   44-45 Retail trade   \n",
       "\n",
       "   2nd Most Common Job                   3rd Most Common Job  \\\n",
       "0   44-45 Retail trade  48-49 Transportation and warehousing   \n",
       "1   44-45 Retail trade  62 Health care and social assistance   \n",
       "2   44-45 Retail trade  48-49 Transportation and warehousing   \n",
       "3  31-33 Manufacturing  62 Health care and social assistance   \n",
       "4  31-33 Manufacturing  62 Health care and social assistance   \n",
       "\n",
       "                                 4th Most Common Job  \\\n",
       "0               62 Health care and social assistance   \n",
       "1               48-49 Transportation and warehousing   \n",
       "2                                    23 Construction   \n",
       "3  56 Administrative and support, waste managemen...   \n",
       "4               48-49 Transportation and warehousing   \n",
       "\n",
       "                                 5th Most Common Job  \n",
       "0  56 Administrative and support, waste managemen...  \n",
       "1                 72 Accommodation and food services  \n",
       "2               62 Health care and social assistance  \n",
       "3               48-49 Transportation and warehousing  \n",
       "4  56 Administrative and support, waste managemen...  "
      ]
     },
     "execution_count": 3,
     "metadata": {},
     "output_type": "execute_result"
    }
   ],
   "source": [
    "# import the 2016 toronto neighborhood profiles into toronto_2016_df and clean the dataframe\n",
    "toronto_2016_df=pd.read_csv('https://ckan0.cf.opendata.inter.prod-toronto.ca/download_resource/ef0239b1-832b-4d0b-a1f3-4153e53b189e?format=csv')\n",
    "toronto_2016_df.drop(['_id','Category','Data Source','City of Toronto'],axis=1,inplace=True)\n",
    "index=['Neighbourhood Number']\n",
    "\n",
    "# extract common jobs data from toronto_2016_df into common_jobs_df and clean the dataframe\n",
    "common_jobs_df=toronto_2016_df[(toronto_2016_df['Topic']=='Industry - North American Industry Classification System (NAICS) 2012')|\n",
    "                               toronto_2016_df['Characteristic'].isin(index)].drop('Topic',axis=1).set_index('Characteristic').T\n",
    "common_jobs_df.columns=common_jobs_df.columns.str.strip()\n",
    "common_jobs_df=common_jobs_df.drop(['Total Labour Force population aged 15 years and over by Industry - North American Industry Classification System (NAICS) 2012 - 25% sample data',\n",
    "                                    'Industry - NAICS2012 - not applicable','All industry categories'],axis=1)\n",
    "common_jobs_df=common_jobs_df.replace(',','',regex=True).astype(int).sort_values(index).rename_axis(None,axis=1).reset_index()\n",
    "common_jobs_df.rename(columns={'index':'Neighborhood','Neighbourhood Number':'ID'},inplace=True)\n",
    "common_jobs_df.loc\n",
    "\n",
    "# get top 5 common jobs and save the data into top5_common_jobs_df\n",
    "top5_common_jobs_df=get_top5_elements(common_jobs_df,'Job')\n",
    "top5_common_jobs_df.tail()"
   ]
  },
  {
   "cell_type": "code",
   "execution_count": 4,
   "metadata": {
    "scrolled": false
   },
   "outputs": [
    {
     "data": {
      "text/html": [
       "<div>\n",
       "<style scoped>\n",
       "    .dataframe tbody tr th:only-of-type {\n",
       "        vertical-align: middle;\n",
       "    }\n",
       "\n",
       "    .dataframe tbody tr th {\n",
       "        vertical-align: top;\n",
       "    }\n",
       "\n",
       "    .dataframe thead th {\n",
       "        text-align: right;\n",
       "    }\n",
       "</style>\n",
       "<table border=\"1\" class=\"dataframe\">\n",
       "  <thead>\n",
       "    <tr style=\"text-align: right;\">\n",
       "      <th></th>\n",
       "      <th>Neighborhood</th>\n",
       "      <th>ID</th>\n",
       "      <th>11 Agriculture, forestry, fishing and hunting</th>\n",
       "      <th>21 Mining, quarrying, and oil and gas extraction</th>\n",
       "      <th>22 Utilities</th>\n",
       "      <th>23 Construction</th>\n",
       "      <th>31-33 Manufacturing</th>\n",
       "      <th>41 Wholesale trade</th>\n",
       "      <th>44-45 Retail trade</th>\n",
       "      <th>48-49 Transportation and warehousing</th>\n",
       "      <th>51 Information and cultural industries</th>\n",
       "      <th>52 Finance and insurance</th>\n",
       "      <th>53 Real estate and rental and leasing</th>\n",
       "      <th>54 Professional, scientific and technical services</th>\n",
       "      <th>55 Management of companies and enterprises</th>\n",
       "      <th>56 Administrative and support, waste management and remediation services</th>\n",
       "      <th>61 Educational services</th>\n",
       "      <th>62 Health care and social assistance</th>\n",
       "      <th>71 Arts, entertainment and recreation</th>\n",
       "      <th>72 Accommodation and food services</th>\n",
       "      <th>81 Other services (except public administration)</th>\n",
       "      <th>91 Public administration</th>\n",
       "    </tr>\n",
       "  </thead>\n",
       "  <tbody>\n",
       "    <tr>\n",
       "      <th>0</th>\n",
       "      <td>West Humber-Clairville</td>\n",
       "      <td>1</td>\n",
       "      <td>0.33</td>\n",
       "      <td>0.11</td>\n",
       "      <td>0.18</td>\n",
       "      <td>0.49</td>\n",
       "      <td>1.00</td>\n",
       "      <td>0.49</td>\n",
       "      <td>0.68</td>\n",
       "      <td>1.00</td>\n",
       "      <td>0.13</td>\n",
       "      <td>0.08</td>\n",
       "      <td>0.18</td>\n",
       "      <td>0.08</td>\n",
       "      <td>0.14</td>\n",
       "      <td>0.57</td>\n",
       "      <td>0.33</td>\n",
       "      <td>0.49</td>\n",
       "      <td>0.23</td>\n",
       "      <td>0.39</td>\n",
       "      <td>0.56</td>\n",
       "      <td>0.25</td>\n",
       "    </tr>\n",
       "    <tr>\n",
       "      <th>1</th>\n",
       "      <td>Mount Olive-Silverstone-Jamestown</td>\n",
       "      <td>2</td>\n",
       "      <td>0.67</td>\n",
       "      <td>0.05</td>\n",
       "      <td>0.06</td>\n",
       "      <td>0.45</td>\n",
       "      <td>0.95</td>\n",
       "      <td>0.44</td>\n",
       "      <td>0.53</td>\n",
       "      <td>0.73</td>\n",
       "      <td>0.10</td>\n",
       "      <td>0.05</td>\n",
       "      <td>0.11</td>\n",
       "      <td>0.05</td>\n",
       "      <td>0.12</td>\n",
       "      <td>0.49</td>\n",
       "      <td>0.20</td>\n",
       "      <td>0.40</td>\n",
       "      <td>0.15</td>\n",
       "      <td>0.37</td>\n",
       "      <td>0.46</td>\n",
       "      <td>0.16</td>\n",
       "    </tr>\n",
       "    <tr>\n",
       "      <th>2</th>\n",
       "      <td>Thistletown-Beaumond Heights</td>\n",
       "      <td>3</td>\n",
       "      <td>0.00</td>\n",
       "      <td>0.05</td>\n",
       "      <td>0.08</td>\n",
       "      <td>0.22</td>\n",
       "      <td>0.24</td>\n",
       "      <td>0.15</td>\n",
       "      <td>0.22</td>\n",
       "      <td>0.27</td>\n",
       "      <td>0.04</td>\n",
       "      <td>0.02</td>\n",
       "      <td>0.05</td>\n",
       "      <td>0.02</td>\n",
       "      <td>0.00</td>\n",
       "      <td>0.13</td>\n",
       "      <td>0.09</td>\n",
       "      <td>0.12</td>\n",
       "      <td>0.05</td>\n",
       "      <td>0.11</td>\n",
       "      <td>0.14</td>\n",
       "      <td>0.08</td>\n",
       "    </tr>\n",
       "    <tr>\n",
       "      <th>3</th>\n",
       "      <td>Rexdale-Kipling</td>\n",
       "      <td>4</td>\n",
       "      <td>0.42</td>\n",
       "      <td>0.00</td>\n",
       "      <td>0.08</td>\n",
       "      <td>0.21</td>\n",
       "      <td>0.22</td>\n",
       "      <td>0.17</td>\n",
       "      <td>0.22</td>\n",
       "      <td>0.27</td>\n",
       "      <td>0.03</td>\n",
       "      <td>0.02</td>\n",
       "      <td>0.06</td>\n",
       "      <td>0.02</td>\n",
       "      <td>0.00</td>\n",
       "      <td>0.21</td>\n",
       "      <td>0.12</td>\n",
       "      <td>0.16</td>\n",
       "      <td>0.06</td>\n",
       "      <td>0.09</td>\n",
       "      <td>0.17</td>\n",
       "      <td>0.11</td>\n",
       "    </tr>\n",
       "    <tr>\n",
       "      <th>4</th>\n",
       "      <td>Elms-Old Rexdale</td>\n",
       "      <td>5</td>\n",
       "      <td>0.00</td>\n",
       "      <td>0.00</td>\n",
       "      <td>0.00</td>\n",
       "      <td>0.14</td>\n",
       "      <td>0.18</td>\n",
       "      <td>0.15</td>\n",
       "      <td>0.18</td>\n",
       "      <td>0.25</td>\n",
       "      <td>0.03</td>\n",
       "      <td>0.02</td>\n",
       "      <td>0.06</td>\n",
       "      <td>0.02</td>\n",
       "      <td>0.08</td>\n",
       "      <td>0.15</td>\n",
       "      <td>0.10</td>\n",
       "      <td>0.15</td>\n",
       "      <td>0.03</td>\n",
       "      <td>0.09</td>\n",
       "      <td>0.15</td>\n",
       "      <td>0.08</td>\n",
       "    </tr>\n",
       "  </tbody>\n",
       "</table>\n",
       "</div>"
      ],
      "text/plain": [
       "                        Neighborhood  ID  \\\n",
       "0             West Humber-Clairville   1   \n",
       "1  Mount Olive-Silverstone-Jamestown   2   \n",
       "2       Thistletown-Beaumond Heights   3   \n",
       "3                    Rexdale-Kipling   4   \n",
       "4                   Elms-Old Rexdale   5   \n",
       "\n",
       "   11 Agriculture, forestry, fishing and hunting  \\\n",
       "0                                           0.33   \n",
       "1                                           0.67   \n",
       "2                                           0.00   \n",
       "3                                           0.42   \n",
       "4                                           0.00   \n",
       "\n",
       "   21 Mining, quarrying, and oil and gas extraction  22 Utilities  \\\n",
       "0                                              0.11          0.18   \n",
       "1                                              0.05          0.06   \n",
       "2                                              0.05          0.08   \n",
       "3                                              0.00          0.08   \n",
       "4                                              0.00          0.00   \n",
       "\n",
       "   23 Construction  31-33 Manufacturing  41 Wholesale trade  \\\n",
       "0             0.49                 1.00                0.49   \n",
       "1             0.45                 0.95                0.44   \n",
       "2             0.22                 0.24                0.15   \n",
       "3             0.21                 0.22                0.17   \n",
       "4             0.14                 0.18                0.15   \n",
       "\n",
       "   44-45 Retail trade  48-49 Transportation and warehousing  \\\n",
       "0                0.68                                  1.00   \n",
       "1                0.53                                  0.73   \n",
       "2                0.22                                  0.27   \n",
       "3                0.22                                  0.27   \n",
       "4                0.18                                  0.25   \n",
       "\n",
       "   51 Information and cultural industries  52 Finance and insurance  \\\n",
       "0                                    0.13                      0.08   \n",
       "1                                    0.10                      0.05   \n",
       "2                                    0.04                      0.02   \n",
       "3                                    0.03                      0.02   \n",
       "4                                    0.03                      0.02   \n",
       "\n",
       "   53 Real estate and rental and leasing  \\\n",
       "0                                   0.18   \n",
       "1                                   0.11   \n",
       "2                                   0.05   \n",
       "3                                   0.06   \n",
       "4                                   0.06   \n",
       "\n",
       "   54 Professional, scientific and technical services  \\\n",
       "0                                               0.08    \n",
       "1                                               0.05    \n",
       "2                                               0.02    \n",
       "3                                               0.02    \n",
       "4                                               0.02    \n",
       "\n",
       "   55 Management of companies and enterprises  \\\n",
       "0                                        0.14   \n",
       "1                                        0.12   \n",
       "2                                        0.00   \n",
       "3                                        0.00   \n",
       "4                                        0.08   \n",
       "\n",
       "   56 Administrative and support, waste management and remediation services  \\\n",
       "0                                               0.57                          \n",
       "1                                               0.49                          \n",
       "2                                               0.13                          \n",
       "3                                               0.21                          \n",
       "4                                               0.15                          \n",
       "\n",
       "   61 Educational services  62 Health care and social assistance  \\\n",
       "0                     0.33                                  0.49   \n",
       "1                     0.20                                  0.40   \n",
       "2                     0.09                                  0.12   \n",
       "3                     0.12                                  0.16   \n",
       "4                     0.10                                  0.15   \n",
       "\n",
       "   71 Arts, entertainment and recreation  72 Accommodation and food services  \\\n",
       "0                                   0.23                                0.39   \n",
       "1                                   0.15                                0.37   \n",
       "2                                   0.05                                0.11   \n",
       "3                                   0.06                                0.09   \n",
       "4                                   0.03                                0.09   \n",
       "\n",
       "   81 Other services (except public administration)  91 Public administration  \n",
       "0                                              0.56                      0.25  \n",
       "1                                              0.46                      0.16  \n",
       "2                                              0.14                      0.08  \n",
       "3                                              0.17                      0.11  \n",
       "4                                              0.15                      0.08  "
      ]
     },
     "execution_count": 4,
     "metadata": {},
     "output_type": "execute_result"
    }
   ],
   "source": [
    "# normalize the common_jobs_df\n",
    "columns_to_normalize=common_jobs_df.columns[2:]\n",
    "for columns in columns_to_normalize:\n",
    "    common_jobs_df[columns]=common_jobs_df[columns]/common_jobs_df[columns].max()\n",
    "    common_jobs_df[columns]=common_jobs_df[columns].round(2)\n",
    "common_jobs_df.head()"
   ]
  },
  {
   "cell_type": "markdown",
   "metadata": {},
   "source": [
    "#### II. Average house price and household income data\n",
    "Now, let's scrape the average house price and household income data from Realosophy and clean the data."
   ]
  },
  {
   "cell_type": "code",
   "execution_count": 5,
   "metadata": {},
   "outputs": [],
   "source": [
    "# import necessary libraries\n",
    "from selenium import webdriver\n",
    "from selenium.webdriver.firefox.options import Options\n",
    "import time\n",
    "from bs4 import BeautifulSoup\n",
    "firefox_options=Options()\n",
    "firefox_options.add_argument('-headless')"
   ]
  },
  {
   "cell_type": "code",
   "execution_count": 6,
   "metadata": {},
   "outputs": [],
   "source": [
    "# define a function to scrape each neighborhood's name and website by borough\n",
    "def get_neighborhood_websites(borough):\n",
    "    neighborhoods_list_driver=webdriver.Firefox(options=firefox_options)\n",
    "    neighborhoods_list_driver.get('https://www.realosophy.com/{}-former-toronto/neighbourhood-map'.format(borough))\n",
    "    time.sleep(5)\n",
    "    neighborhoods_list_html=neighborhoods_list_driver.page_source\n",
    "    neighborhoods_list_html_scraper=BeautifulSoup(neighborhoods_list_html,'lxml')\n",
    "    neighborhoods_list_raw_data=neighborhoods_list_html_scraper.find('div',{'class':'row mt-4'})\n",
    "    neighborhoods_list_data=neighborhoods_list_raw_data.find_all('a')\n",
    "    neighborhood=[]\n",
    "    website=[]\n",
    "    for neighborhoods_list in neighborhoods_list_data:\n",
    "        neighborhood.append(neighborhoods_list.text)\n",
    "        website_temp=neighborhoods_list['href'].replace('/','https://www.realosophy.com/',1)\n",
    "        website.append(website_temp)\n",
    "    neighborhoods_list_driver.quit()\n",
    "    print('...',end='')\n",
    "    return pd.DataFrame({'Neighborhood':neighborhood,'Website':website})"
   ]
  },
  {
   "cell_type": "code",
   "execution_count": 7,
   "metadata": {},
   "outputs": [],
   "source": [
    "# define a function to get the avg house price or household income in numerical result\n",
    "def get_number_only(money_in_str):\n",
    "    clear_space=money_in_str.text.strip()\n",
    "    clear_dollar_sign=clear_space.replace('$','')\n",
    "    clear_character=clear_dollar_sign.replace(',','')\n",
    "    if 'M' in clear_character:\n",
    "        string=clear_character.replace('M','')\n",
    "        number=float(string)\n",
    "        result=int(number*1000000)\n",
    "        return result\n",
    "    else:\n",
    "        string=clear_character.replace('K','')\n",
    "        number=float(string)\n",
    "        result=int(number*1000)\n",
    "        return result"
   ]
  },
  {
   "cell_type": "code",
   "execution_count": 8,
   "metadata": {
    "scrolled": true
   },
   "outputs": [
    {
     "name": "stdout",
     "output_type": "stream",
     "text": [
      "Almost........................Done!"
     ]
    },
    {
     "data": {
      "text/html": [
       "<div>\n",
       "<style scoped>\n",
       "    .dataframe tbody tr th:only-of-type {\n",
       "        vertical-align: middle;\n",
       "    }\n",
       "\n",
       "    .dataframe tbody tr th {\n",
       "        vertical-align: top;\n",
       "    }\n",
       "\n",
       "    .dataframe thead th {\n",
       "        text-align: right;\n",
       "    }\n",
       "</style>\n",
       "<table border=\"1\" class=\"dataframe\">\n",
       "  <thead>\n",
       "    <tr style=\"text-align: right;\">\n",
       "      <th></th>\n",
       "      <th>Neighborhood</th>\n",
       "      <th>Website</th>\n",
       "      <th>ID</th>\n",
       "    </tr>\n",
       "  </thead>\n",
       "  <tbody>\n",
       "    <tr>\n",
       "      <th>0</th>\n",
       "      <td>Clairville</td>\n",
       "      <td>https://www.realosophy.com/clairville-toronto/...</td>\n",
       "      <td>1</td>\n",
       "    </tr>\n",
       "    <tr>\n",
       "      <th>1</th>\n",
       "      <td>Smithfield</td>\n",
       "      <td>https://www.realosophy.com/smithfield-toronto/...</td>\n",
       "      <td>2</td>\n",
       "    </tr>\n",
       "    <tr>\n",
       "      <th>2</th>\n",
       "      <td>Thistletown</td>\n",
       "      <td>https://www.realosophy.com/thistletown-toronto...</td>\n",
       "      <td>3</td>\n",
       "    </tr>\n",
       "    <tr>\n",
       "      <th>3</th>\n",
       "      <td>Rexdale</td>\n",
       "      <td>https://www.realosophy.com/rexdale-toronto/nei...</td>\n",
       "      <td>4</td>\n",
       "    </tr>\n",
       "    <tr>\n",
       "      <th>4</th>\n",
       "      <td>The Elms</td>\n",
       "      <td>https://www.realosophy.com/the-elms-toronto/ne...</td>\n",
       "      <td>5</td>\n",
       "    </tr>\n",
       "  </tbody>\n",
       "</table>\n",
       "</div>"
      ],
      "text/plain": [
       "  Neighborhood                                            Website  ID\n",
       "0   Clairville  https://www.realosophy.com/clairville-toronto/...   1\n",
       "1   Smithfield  https://www.realosophy.com/smithfield-toronto/...   2\n",
       "2  Thistletown  https://www.realosophy.com/thistletown-toronto...   3\n",
       "3      Rexdale  https://www.realosophy.com/rexdale-toronto/nei...   4\n",
       "4     The Elms  https://www.realosophy.com/the-elms-toronto/ne...   5"
      ]
     },
     "execution_count": 8,
     "metadata": {},
     "output_type": "execute_result"
    }
   ],
   "source": [
    "# scrape etobicoke's neighborhoods and websites into etobicoke_website_df then insert neighborhoods ID\n",
    "print('Almost...',end='')\n",
    "etobicoke_website_df=get_neighborhood_websites('etobicoke')\n",
    "etobicoke_website_df.drop(25,inplace=True)\n",
    "etobicoke_website_df['ID']=[20,11,1,14,13,17,8,9,14,6,19,12,17,18,10,14,4,7,2,16,5,15,16,3,11]\n",
    "\n",
    "# scrape north york's neighborhoods and websites into north_york_website_df then insert neighborhoods ID\n",
    "north_york_website_df=get_neighborhood_websites('north-york')\n",
    "north_york_website_df.loc[len(north_york_website_df.index)]=north_york_website_df.loc[31,:]\n",
    "north_york_website_df.loc[len(north_york_website_df.index)]=north_york_website_df.loc[39,:]\n",
    "north_york_website_df['ID']=[38,42,34,52,49,43,24,41,30,39,33,39,42,47,45,26,44,31,25,45,53,48,41,21,23,22,38,32,\n",
    "                             41,39,29,36,45,23,46,28,43,41,35,37,40,27,31,50,51]\n",
    "\n",
    "# scrape east york's neighborhoods and websites into east_york_website_df then insert neighborhoods ID\n",
    "east_york_website_df=get_neighborhood_websites('east-york')\n",
    "east_york_website_df['ID']=[56,57,59,61,56,58,54,55,54,54,60]\n",
    "\n",
    "# scrape central toronto's neighborhoods and websites into central_toronto_website_df then insert neighborhoods ID\n",
    "central_toronto_website_df=get_neighborhood_websites('central-toronto')\n",
    "central_toronto_website_df=central_toronto_website_df.drop([16,47,69,74]).reset_index(drop=True)\n",
    "central_toronto_website_df.loc[len(central_toronto_website_df.index)]=central_toronto_website_df.loc[39,:]\n",
    "central_toronto_website_df.loc[len(central_toronto_website_df.index)]=central_toronto_website_df.loc[35,:]\n",
    "central_toronto_website_df.loc[len(central_toronto_website_df.index)]=central_toronto_website_df.loc[20,:]\n",
    "central_toronto_website_df['ID']=[78,103,76,84,105,80,89,83,71,91,96,100,78,93,75,77,73,66,93,99,97,77,93,83,92,77,\n",
    "                                  77,76,101,102,82,77,77,90,87,94,74,78,70,82,81,103,98,73,103,67,96,92,72,68,70,\n",
    "                                  86,98,95,79,77,96,85,73,74,77,97,87,105,95,63,67,90,69,81,82,62,93,77,64,75,95,\n",
    "                                  65,88,104]\n",
    "\n",
    "# scrape york's neighborhoods and websites into york_website_df then insert neighborhoods ID\n",
    "york_website_df=get_neighborhood_websites('york')\n",
    "york_website_df=york_website_df.drop(11).reset_index(drop=True)\n",
    "york_website_df['ID']=[114,112,108,109,106,110,114,115,107,114,111,113]\n",
    "\n",
    "# scrape scarborough's neighborhoods and websites into scarborough_website_df then insert neighborhoods ID\n",
    "scarborough_website_df=get_neighborhood_websites('scarborough')\n",
    "scarborough_website_df.loc[len(scarborough_website_df.index)]=scarborough_website_df.loc[0,:]\n",
    "scarborough_website_df['ID']=[128,127,122,120,120,123,122,126,138,140,134,125,124,117,132,119,130,135,135,121,133,\n",
    "                              131,139,116,118,136,131,119,137,129]\n",
    "\n",
    "# concatenate etobicoke_website_df, north_york_website_df, east_york_website_df, central_toronto_website_df,\n",
    "# york_website_df and scarborough_website_df into neighborhood_website_df\n",
    "neighborhood_website_df=pd.concat([etobicoke_website_df,north_york_website_df,east_york_website_df,\n",
    "                                  central_toronto_website_df,york_website_df,scarborough_website_df])\n",
    "neighborhood_website_df=neighborhood_website_df.sort_values('ID').reset_index(drop=True)\n",
    "print('...Done!',end='')\n",
    "neighborhood_website_df.head()"
   ]
  },
  {
   "cell_type": "code",
   "execution_count": 9,
   "metadata": {
    "scrolled": false
   },
   "outputs": [
    {
     "name": "stdout",
     "output_type": "stream",
     "text": [
      "Progress:"
     ]
    },
    {
     "name": "stderr",
     "output_type": "stream",
     "text": [
      "<ipython-input-9-1835e90e00c1>:20: SettingWithCopyWarning: \n",
      "A value is trying to be set on a copy of a slice from a DataFrame\n",
      "\n",
      "See the caveats in the documentation: http://pandas.pydata.org/pandas-docs/stable/user_guide/indexing.html#returning-a-view-versus-a-copy\n",
      "  neighborhood_website_df['Avg House Price'][i]=get_number_only(avg_houseprice_data)\n",
      "<ipython-input-9-1835e90e00c1>:21: SettingWithCopyWarning: \n",
      "A value is trying to be set on a copy of a slice from a DataFrame\n",
      "\n",
      "See the caveats in the documentation: http://pandas.pydata.org/pandas-docs/stable/user_guide/indexing.html#returning-a-view-versus-a-copy\n",
      "  neighborhood_website_df['Avg Household Income'][i]=get_number_only(avg_income_data)\n"
     ]
    },
    {
     "name": "stdout",
     "output_type": "stream",
     "text": [
      "..............................................................................................................................................................................................................Done!\n"
     ]
    },
    {
     "data": {
      "text/html": [
       "<div>\n",
       "<style scoped>\n",
       "    .dataframe tbody tr th:only-of-type {\n",
       "        vertical-align: middle;\n",
       "    }\n",
       "\n",
       "    .dataframe tbody tr th {\n",
       "        vertical-align: top;\n",
       "    }\n",
       "\n",
       "    .dataframe thead th {\n",
       "        text-align: right;\n",
       "    }\n",
       "</style>\n",
       "<table border=\"1\" class=\"dataframe\">\n",
       "  <thead>\n",
       "    <tr style=\"text-align: right;\">\n",
       "      <th></th>\n",
       "      <th>Neighborhood</th>\n",
       "      <th>ID</th>\n",
       "      <th>Avg House Price</th>\n",
       "      <th>Avg Household Income</th>\n",
       "    </tr>\n",
       "  </thead>\n",
       "  <tbody>\n",
       "    <tr>\n",
       "      <th>0</th>\n",
       "      <td>West Humber-Clairville</td>\n",
       "      <td>1</td>\n",
       "      <td>587000</td>\n",
       "      <td>94000</td>\n",
       "    </tr>\n",
       "    <tr>\n",
       "      <th>1</th>\n",
       "      <td>Mount Olive-Silverstone-Jamestown</td>\n",
       "      <td>2</td>\n",
       "      <td>578000</td>\n",
       "      <td>79000</td>\n",
       "    </tr>\n",
       "    <tr>\n",
       "      <th>2</th>\n",
       "      <td>Thistletown-Beaumond Heights</td>\n",
       "      <td>3</td>\n",
       "      <td>898000</td>\n",
       "      <td>94000</td>\n",
       "    </tr>\n",
       "    <tr>\n",
       "      <th>3</th>\n",
       "      <td>Rexdale-Kipling</td>\n",
       "      <td>4</td>\n",
       "      <td>744000</td>\n",
       "      <td>91000</td>\n",
       "    </tr>\n",
       "    <tr>\n",
       "      <th>4</th>\n",
       "      <td>Elms-Old Rexdale</td>\n",
       "      <td>5</td>\n",
       "      <td>600000</td>\n",
       "      <td>82000</td>\n",
       "    </tr>\n",
       "  </tbody>\n",
       "</table>\n",
       "</div>"
      ],
      "text/plain": [
       "                        Neighborhood  ID  Avg House Price  \\\n",
       "0             West Humber-Clairville   1           587000   \n",
       "1  Mount Olive-Silverstone-Jamestown   2           578000   \n",
       "2       Thistletown-Beaumond Heights   3           898000   \n",
       "3                    Rexdale-Kipling   4           744000   \n",
       "4                   Elms-Old Rexdale   5           600000   \n",
       "\n",
       "   Avg Household Income  \n",
       "0                 94000  \n",
       "1                 79000  \n",
       "2                 94000  \n",
       "3                 91000  \n",
       "4                 82000  "
      ]
     },
     "execution_count": 9,
     "metadata": {},
     "output_type": "execute_result"
    }
   ],
   "source": [
    "# scrape average house price and household income for each neighborhood into neighborhood_website_df\n",
    "print('Progress:',end='')\n",
    "avg_houseprice_income_driver=webdriver.Firefox(options=firefox_options)\n",
    "neighborhood_website_df['Avg House Price']=0\n",
    "neighborhood_website_df['Avg Household Income']=0\n",
    "for i in range(len(neighborhood_website_df['ID'])):\n",
    "    avg_houseprice_income_driver.get(neighborhood_website_df['Website'][i])\n",
    "    time.sleep(5)\n",
    "    avg_houseprice_income_html=avg_houseprice_income_driver.page_source\n",
    "    avg_houseprice_income_scraper=BeautifulSoup(avg_houseprice_income_html,'lxml')\n",
    "    avg_houseprice_data=avg_houseprice_income_scraper.find('div',{'class':'key-stats__avg-sale-price ng-binding ng-scope'})        \n",
    "    avg_income_data=avg_houseprice_income_scraper.find('p',{'class':'h3 font-sans-caption-bold mb-0 text-center text-sm-left ng-binding ng-scope'})\n",
    "    while avg_houseprice_data==None or avg_income_data==None:\n",
    "        avg_houseprice_income_driver.get(neighborhood_website_df['Website'][i])\n",
    "        time.sleep(5)\n",
    "        avg_houseprice_income_html=avg_houseprice_income_driver.page_source\n",
    "        avg_houseprice_income_scraper=BeautifulSoup(avg_houseprice_income_html,'lxml')\n",
    "        avg_houseprice_data=avg_houseprice_income_scraper.find('div',{'class':'key-stats__avg-sale-price ng-binding ng-scope'})        \n",
    "        avg_income_data=avg_houseprice_income_scraper.find('p',{'class':'h3 font-sans-caption-bold mb-0 text-center text-sm-left ng-binding ng-scope'})\n",
    "    neighborhood_website_df['Avg House Price'][i]=get_number_only(avg_houseprice_data)\n",
    "    neighborhood_website_df['Avg Household Income'][i]=get_number_only(avg_income_data)\n",
    "    print('.',end='')\n",
    "avg_houseprice_income_driver.quit()\n",
    "\n",
    "# group neighborhood_website_df by neighborhood ID and save the data into avg_houseprice_income_df\n",
    "neighborhood_website_df.drop('Neighborhood',axis=1,inplace=True)\n",
    "neighborhood_website_df=neighborhood_website_df.groupby('ID').mean().reset_index()\n",
    "neighborhood_website_df['Avg House Price']=neighborhood_website_df['Avg House Price'].astype(int)\n",
    "neighborhood_website_df['Avg Household Income']=neighborhood_website_df['Avg Household Income'].astype(int)\n",
    "avg_houseprice_income_df=common_jobs_df.iloc[:,0:2]\n",
    "avg_houseprice_income_df['Avg House Price']=neighborhood_website_df['Avg House Price']\n",
    "avg_houseprice_income_df['Avg Household Income']=neighborhood_website_df['Avg Household Income']\n",
    "print('...Done!')\n",
    "avg_houseprice_income_df.head()"
   ]
  },
  {
   "cell_type": "code",
   "execution_count": 54,
   "metadata": {},
   "outputs": [
    {
     "data": {
      "text/plain": [
       "count    1.400000e+02\n",
       "mean     1.102194e+06\n",
       "std      5.519263e+05\n",
       "min      4.960000e+05\n",
       "25%      7.459995e+05\n",
       "50%      9.590000e+05\n",
       "75%      1.210625e+06\n",
       "max      4.425000e+06\n",
       "Name: Avg House Price, dtype: float64"
      ]
     },
     "execution_count": 54,
     "metadata": {},
     "output_type": "execute_result"
    }
   ],
   "source": [
    "import matplotlib.pyplot as plt\n",
    "avg_houseprice_income_df['Avg House Price'].describe()"
   ]
  },
  {
   "cell_type": "code",
   "execution_count": 56,
   "metadata": {},
   "outputs": [
    {
     "data": {
      "text/plain": [
       "<matplotlib.axes._subplots.AxesSubplot at 0x7f5e557c09a0>"
      ]
     },
     "execution_count": 56,
     "metadata": {},
     "output_type": "execute_result"
    },
    {
     "data": {
      "image/png": "[encoded data removed]",
      "text/plain": [
       "<Figure size 432x288 with 1 Axes>"
      ]
     },
     "metadata": {
      "needs_background": "light"
     },
     "output_type": "display_data"
    }
   ],
   "source": [
    "avg_houseprice_income_df['Avg House Price'].plot.box()"
   ]
  },
  {
   "cell_type": "code",
   "execution_count": 61,
   "metadata": {},
   "outputs": [
    {
     "data": {
      "text/plain": [
       "(132,)"
      ]
     },
     "execution_count": 61,
     "metadata": {},
     "output_type": "execute_result"
    }
   ],
   "source": [
    "QR_price.shape"
   ]
  },
  {
   "cell_type": "code",
   "execution_count": 63,
   "metadata": {},
   "outputs": [
    {
     "data": {
      "text/plain": [
       "0       587000\n",
       "1       578000\n",
       "2       898000\n",
       "3       744000\n",
       "4       600000\n",
       "5       577000\n",
       "6       969000\n",
       "7       839000\n",
       "8      1600000\n",
       "9      1900000\n",
       "10      994000\n",
       "11      933000\n",
       "12      628000\n",
       "13      849000\n",
       "14     1900000\n",
       "15     1030000\n",
       "16      788500\n",
       "17      956000\n",
       "18      899000\n",
       "19     1100000\n",
       "20      789000\n",
       "21      671000\n",
       "22      737000\n",
       "23      514000\n",
       "24      661000\n",
       "25      733000\n",
       "26      665000\n",
       "27     1000000\n",
       "28     1000000\n",
       "29      686000\n",
       "30     1024500\n",
       "31      954000\n",
       "32     1000000\n",
       "33     1100000\n",
       "34      693000\n",
       "35     1100000\n",
       "36      962000\n",
       "37     1350000\n",
       "41     1802500\n",
       "42      846000\n",
       "43      496000\n",
       "44     1078666\n",
       "45      703000\n",
       "46      863000\n",
       "47      899000\n",
       "48     1100000\n",
       "49     1100000\n",
       "50      962000\n",
       "51      838000\n",
       "52      623000\n",
       "53     1160333\n",
       "54      606000\n",
       "56     1000000\n",
       "57     1200000\n",
       "58     1200000\n",
       "59     1100000\n",
       "60      638000\n",
       "61     1000000\n",
       "62     1500000\n",
       "63     1100000\n",
       "64      714000\n",
       "65     1200000\n",
       "66     1550000\n",
       "67     1700000\n",
       "68     1200000\n",
       "69     1100000\n",
       "70     1400000\n",
       "71      658000\n",
       "72      762666\n",
       "73      694000\n",
       "74      749500\n",
       "75      861000\n",
       "76      803000\n",
       "77      962666\n",
       "78     1700000\n",
       "79     1600000\n",
       "80     1450000\n",
       "81      746666\n",
       "82     1250000\n",
       "83      773000\n",
       "84     1300000\n",
       "85     1200000\n",
       "86     1242500\n",
       "87     1500000\n",
       "88     1600000\n",
       "89      916500\n",
       "90      941000\n",
       "91     1430500\n",
       "92     1132500\n",
       "93     1500000\n",
       "94     1633333\n",
       "95     1466666\n",
       "96     1900000\n",
       "98     1100000\n",
       "99     1500000\n",
       "102    1733333\n",
       "103    1500000\n",
       "105    1400000\n",
       "106    1100000\n",
       "107     841000\n",
       "108     943000\n",
       "109     805000\n",
       "110     840000\n",
       "111     997000\n",
       "112     695000\n",
       "113    1633333\n",
       "114     691000\n",
       "115     812000\n",
       "116     732000\n",
       "117     768000\n",
       "118     903000\n",
       "119     836500\n",
       "120     808000\n",
       "121    1019500\n",
       "122    1100000\n",
       "123     712000\n",
       "124     726000\n",
       "125     614000\n",
       "126     651000\n",
       "127     687000\n",
       "128     687000\n",
       "129     764000\n",
       "130     855500\n",
       "131     585000\n",
       "132    1000000\n",
       "133    1100000\n",
       "134     830000\n",
       "135     683000\n",
       "136     849000\n",
       "137     644000\n",
       "138     687000\n",
       "139     888000\n",
       "Name: Avg House Price, dtype: int64"
      ]
     },
     "execution_count": 63,
     "metadata": {},
     "output_type": "execute_result"
    }
   ],
   "source": [
    "QR_price"
   ]
  },
  {
   "cell_type": "code",
   "execution_count": 65,
   "metadata": {},
   "outputs": [],
   "source": [
    "import numpy as np"
   ]
  },
  {
   "cell_type": "code",
   "execution_count": 68,
   "metadata": {},
   "outputs": [
    {
     "data": {
      "text/plain": [
       "count    1.400000e+02\n",
       "mean     1.102194e+06\n",
       "std      5.519263e+05\n",
       "min      4.960000e+05\n",
       "25%      7.459995e+05\n",
       "50%      9.590000e+05\n",
       "75%      1.210625e+06\n",
       "max      4.425000e+06\n",
       "Name: Avg House Price, dtype: float64"
      ]
     },
     "execution_count": 68,
     "metadata": {},
     "output_type": "execute_result"
    }
   ],
   "source": [
    "avg_houseprice_income_df['Avg House Price'].describe()"
   ]
  },
  {
   "cell_type": "code",
   "execution_count": 73,
   "metadata": {},
   "outputs": [
    {
     "data": {
      "text/plain": [
       "(818000.0, 1100000.0]     51\n",
       "(495999.999, 818000.0]    47\n",
       "(1100000.0, 4425000.0]    42\n",
       "Name: Avg House Price, dtype: int64"
      ]
     },
     "execution_count": 73,
     "metadata": {},
     "output_type": "execute_result"
    }
   ],
   "source": [
    "a=pd.qcut(avg_houseprice_income_df['Avg House Price'], q=3)\n",
    "a.value_counts()"
   ]
  },
  {
   "cell_type": "code",
   "execution_count": 74,
   "metadata": {},
   "outputs": [
    {
     "data": {
      "text/plain": [
       "(804333.333, 1100000.0]     54\n",
       "(495999.999, 804333.333]    44\n",
       "(1100000.0, 1900000.0]      34\n",
       "Name: Avg House Price, dtype: int64"
      ]
     },
     "execution_count": 74,
     "metadata": {},
     "output_type": "execute_result"
    }
   ],
   "source": [
    "b=pd.qcut(QR_price,q=3)\n",
    "b.value_counts()"
   ]
  },
  {
   "cell_type": "code",
   "execution_count": 75,
   "metadata": {},
   "outputs": [
    {
     "name": "stdout",
     "output_type": "stream",
     "text": [
      "[ 496000.         1805666.66666667 3115333.33333333 4425000.        ]\n"
     ]
    }
   ],
   "source": [
    "print(np.linspace(min(avg_houseprice_income_df['Avg House Price']), max(avg_houseprice_income_df['Avg House Price']), 4))"
   ]
  },
  {
   "cell_type": "code",
   "execution_count": 66,
   "metadata": {
    "scrolled": true
   },
   "outputs": [
    {
     "name": "stdout",
     "output_type": "stream",
     "text": [
      "[ 496000.  964000. 1432000. 1900000.]\n"
     ]
    }
   ],
   "source": [
    "print(np.linspace(min(QR_price), max(QR_price), 4))\n",
    "bin=[]"
   ]
  },
  {
   "cell_type": "code",
   "execution_count": null,
   "metadata": {},
   "outputs": [],
   "source": [
    "print(np.linspace(min(QR_price), max(QR_price), 4))\n",
    "group_names = ['Low', 'Medium', 'High']\n",
    "df['horsepower-binned'] = pd.cut(df['horsepower'], bins, labels=group_names, include_lowest=True)\n",
    "df[['horsepower','horsepower-binned']].head()"
   ]
  },
  {
   "cell_type": "code",
   "execution_count": 62,
   "metadata": {
    "scrolled": true
   },
   "outputs": [
    {
     "data": {
      "text/plain": [
       "<matplotlib.axes._subplots.AxesSubplot at 0x7f5e5566a100>"
      ]
     },
     "execution_count": 62,
     "metadata": {},
     "output_type": "execute_result"
    },
    {
     "data": {
      "image/png": "[encoded data removed]",
      "text/plain": [
       "<Figure size 432x288 with 1 Axes>"
      ]
     },
     "metadata": {
      "needs_background": "light"
     },
     "output_type": "display_data"
    }
   ],
   "source": [
    "QR_price.plot.hist(bins=3)"
   ]
  },
  {
   "cell_type": "code",
   "execution_count": 57,
   "metadata": {},
   "outputs": [
    {
     "name": "stdout",
     "output_type": "stream",
     "text": [
      "49061.25 1907563.25\n"
     ]
    },
    {
     "data": {
      "text/plain": [
       "<matplotlib.axes._subplots.AxesSubplot at 0x7f5e5572c370>"
      ]
     },
     "execution_count": 57,
     "metadata": {},
     "output_type": "execute_result"
    },
    {
     "data": {
      "image/png": "[encoded data removed]",
      "text/plain": [
       "<Figure size 432x288 with 1 Axes>"
      ]
     },
     "metadata": {
      "needs_background": "light"
     },
     "output_type": "display_data"
    }
   ],
   "source": [
    "Q1=avg_houseprice_income_df['Avg House Price'].quantile(0.25)\n",
    "Q3=avg_houseprice_income_df['Avg House Price'].quantile(0.75)\n",
    "IQR=Q3-Q1\n",
    "lower_bound=Q1 - 1.5 * IQR\n",
    "upper_bound=Q3 + 1.5 * IQR\n",
    "print(lower_bound,upper_bound)\n",
    "\n",
    "QR_price = avg_houseprice_income_df['Avg House Price'][~((avg_houseprice_income_df['Avg House Price'] < lower_bound) |(avg_houseprice_income_df['Avg House Price'] > upper_bound))]\n",
    "QR_price.plot.hist(bins=3)"
   ]
  },
  {
   "cell_type": "code",
   "execution_count": 17,
   "metadata": {},
   "outputs": [
    {
     "data": {
      "text/html": [
       "<div>\n",
       "<style scoped>\n",
       "    .dataframe tbody tr th:only-of-type {\n",
       "        vertical-align: middle;\n",
       "    }\n",
       "\n",
       "    .dataframe tbody tr th {\n",
       "        vertical-align: top;\n",
       "    }\n",
       "\n",
       "    .dataframe thead th {\n",
       "        text-align: right;\n",
       "    }\n",
       "</style>\n",
       "<table border=\"1\" class=\"dataframe\">\n",
       "  <thead>\n",
       "    <tr style=\"text-align: right;\">\n",
       "      <th></th>\n",
       "      <th>Neighborhood</th>\n",
       "      <th>ID</th>\n",
       "      <th>Avg House Price</th>\n",
       "      <th>Avg Household Income</th>\n",
       "      <th>Home Affordability</th>\n",
       "    </tr>\n",
       "  </thead>\n",
       "  <tbody>\n",
       "    <tr>\n",
       "      <th>0</th>\n",
       "      <td>West Humber-Clairville</td>\n",
       "      <td>1</td>\n",
       "      <td>587000</td>\n",
       "      <td>94000</td>\n",
       "      <td>0.715771</td>\n",
       "    </tr>\n",
       "    <tr>\n",
       "      <th>1</th>\n",
       "      <td>Mount Olive-Silverstone-Jamestown</td>\n",
       "      <td>2</td>\n",
       "      <td>578000</td>\n",
       "      <td>79000</td>\n",
       "      <td>0.610919</td>\n",
       "    </tr>\n",
       "    <tr>\n",
       "      <th>2</th>\n",
       "      <td>Thistletown-Beaumond Heights</td>\n",
       "      <td>3</td>\n",
       "      <td>898000</td>\n",
       "      <td>94000</td>\n",
       "      <td>0.467882</td>\n",
       "    </tr>\n",
       "    <tr>\n",
       "      <th>3</th>\n",
       "      <td>Rexdale-Kipling</td>\n",
       "      <td>4</td>\n",
       "      <td>744000</td>\n",
       "      <td>91000</td>\n",
       "      <td>0.546705</td>\n",
       "    </tr>\n",
       "    <tr>\n",
       "      <th>4</th>\n",
       "      <td>Elms-Old Rexdale</td>\n",
       "      <td>5</td>\n",
       "      <td>600000</td>\n",
       "      <td>82000</td>\n",
       "      <td>0.610868</td>\n",
       "    </tr>\n",
       "  </tbody>\n",
       "</table>\n",
       "</div>"
      ],
      "text/plain": [
       "                        Neighborhood  ID  Avg House Price  \\\n",
       "0             West Humber-Clairville   1           587000   \n",
       "1  Mount Olive-Silverstone-Jamestown   2           578000   \n",
       "2       Thistletown-Beaumond Heights   3           898000   \n",
       "3                    Rexdale-Kipling   4           744000   \n",
       "4                   Elms-Old Rexdale   5           600000   \n",
       "\n",
       "   Avg Household Income  Home Affordability  \n",
       "0                 94000            0.715771  \n",
       "1                 79000            0.610919  \n",
       "2                 94000            0.467882  \n",
       "3                 91000            0.546705  \n",
       "4                 82000            0.610868  "
      ]
     },
     "execution_count": 17,
     "metadata": {},
     "output_type": "execute_result"
    }
   ],
   "source": [
    "# calculate the home affordability for each neighborhood\n",
    "avg_houseprice_income_df['Home Affordability']=avg_houseprice_income_df['Avg Household Income']/avg_houseprice_income_df['Avg House Price']\n",
    "\n",
    "# normalize the column of Home Affordability\n",
    "avg_houseprice_income_df['Home Affordability']=avg_houseprice_income_df['Home Affordability']/avg_houseprice_income_df['Home Affordability'].max()\n",
    "avg_houseprice_income_df.head()"
   ]
  },
  {
   "cell_type": "markdown",
   "metadata": {},
   "source": [
    "#### III. Crime rate data\n",
    "Now, let's get the crime rate data by calling a REST API from Toronto Police Service and clean the data."
   ]
  },
  {
   "cell_type": "code",
   "execution_count": 10,
   "metadata": {},
   "outputs": [],
   "source": [
    "import requests\n",
    "from pandas.io.json import json_normalize\n",
    "url = 'https://services.arcgis.com/S9th0jAJ7bqgIRjw/arcgis/rest/services/Neighbourhood_MCI/FeatureServer/0/query?where=1%3D1&outFields=Neighbourhood,Hood_ID,Population,Assault_AVG,AutoTheft_AVG,Homicide_AVG,TheftOver_AVG,BreakandEnter_AVG,Robbery_AVG&outSR=4326&f=json'\n",
    "results = requests.get(url).json()\n",
    "crime_data = results['features']\n",
    "dataframe = json_normalize(crime_data)"
   ]
  },
  {
   "cell_type": "code",
   "execution_count": 11,
   "metadata": {},
   "outputs": [],
   "source": [
    "language_df = toronto_2016_df.loc[393:670]"
   ]
  },
  {
   "cell_type": "markdown",
   "metadata": {},
   "source": [
    "## 3. Methodology<a name=\"methodology\"></a>"
   ]
  },
  {
   "cell_type": "markdown",
   "metadata": {},
   "source": [
    "## 4. Results<a name=\"results\"></a>"
   ]
  },
  {
   "cell_type": "markdown",
   "metadata": {},
   "source": [
    "## 5. Discussion<a name=\"discussion\"></a>"
   ]
  },
  {
   "cell_type": "markdown",
   "metadata": {},
   "source": [
    "## 6. Conclusion<a name=\"conclusion\"></a>"
   ]
  },
  {
   "cell_type": "markdown",
   "metadata": {},
   "source": [
    "### Thank you for reading this notebook! Feel free to read the __[full report]()__ and the __[blogpost]()__ too! \n",
    "\n",
    "## Author  \n",
    "__[Titus Chin Jun Hong](https://www.linkedin.com/in/joseph-s-50398b136/)__  \n",
    "**13 November 2020**"
   ]
  }
 ],
 "metadata": {
  "kernelspec": {
   "display_name": "Python 3",
   "language": "python",
   "name": "python3"
  },
  "language_info": {
   "codemirror_mode": {
    "name": "ipython",
    "version": 3
   },
   "file_extension": ".py",
   "mimetype": "text/x-python",
   "name": "python",
   "nbconvert_exporter": "python",
   "pygments_lexer": "ipython3",
   "version": "3.8.5"
  }
 },
 "nbformat": 4,
 "nbformat_minor": 4
}
