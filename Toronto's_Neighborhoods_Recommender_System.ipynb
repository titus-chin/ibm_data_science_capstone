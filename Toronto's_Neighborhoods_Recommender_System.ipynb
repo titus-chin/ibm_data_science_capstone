{
 "cells": [
  {
   "cell_type": "markdown",
   "metadata": {},
   "source": [
    "# Toronto's Neighborhoods Recommender System\n",
    "<img src=\"https://external-content.duckduckgo.com/iu/?u=https%3A%2F%2Fwww.wallpaperup.com%2Fuploads%2Fwallpapers%2F2013%2F12%2F19%2F199807%2F4d86b2357c55ff2bc433fc0af0705b97.jpg&f=1&nofb=1/toronto.jpeg%E2%80%9D\" alt=\"toronto\" align=\"left\" width=\"600\" />"
   ]
  },
  {
   "cell_type": "markdown",
   "metadata": {},
   "source": [
    "## Table of Contents\n",
    "1. [Introduction](#introduction)\n",
    "2. [Data](#data)  \n",
    "3. [Methodology](#methodology)\n",
    "4. [Results](#results)\n",
    "5. [Discussion](#discussion)\n",
    "6. [Conclusion](#conclusion)"
   ]
  },
  {
   "cell_type": "markdown",
   "metadata": {},
   "source": [
    "## 1. Introduction<a name=\"introduction\"></a>\n",
    "According to __[CIC News](https://www.cicnews.com/2020/02/which-cities-in-canada-attract-the-most-immigrants-0213741.html#)__, Canada welcomed more than 341,000 immigrants in 2019 and Toronto has successfully attracted nearly 118,000 immigrants which contribute to almost 35% of the total number of immigrants. **The statistics indicate that most of the immigrants prefer to settle in Toronto over other cities.** Why? __[VisaPlace](https://www.visaplace.com/blog-immigration-law/why-immigrants-settle-in-toronto-heres-10-reasons/)__ has listed out 10 reasons for this question. For me, the most convincing reason is Toronto is Canada’s business and financial capital, that's why immigrants prefer it.\n",
    "\n",
    "Toronto is Canada’s largest city, it has 6 boroughs which are Etobicoke, North York, East York, Central Toronto, York and Scarborough. These 6 boroughs can be further divided into 140 neighborhoods. According to __[City of Toronto](https://www.toronto.ca/community-people/moving-to-toronto/about-toronto/)__, Toronto is one of the most multicultural cities in the world due to its large population of immigrants all over the world, each Toronto's neighborhood might be quite different from one another. **Therefore, out of 140 neighborhoods in Toronto, how can immigrants decide which neighborhood suits them best?** This is exactly what I want to resolve in this project.\n",
    "\n",
    "**In this project, I will try to build a Toronto's neighborhoods recommender system based on 5 factors including job opportunities, cost of living, ease of transportation, safety and culture.** So, who would be interested in this recommender system? I can say that at least 118,000 people would and I believe that this number will be growing in the future. And of course, I can't wait to find out which neighborhood suit me best too because I wish to migrate to Canada and settle in Toronto in the future. How about you?"
   ]
  },
  {
   "cell_type": "markdown",
   "metadata": {},
   "source": [
    "## 2. Data<a name=\"data\"></a> \n",
    "Previously, I mentioned that the Toronto's neighborhoods recommender system is built on job opportunities, cost of living, ease of transportation, safety and culture. In this section, I will explain why these factors are important, describe the data that will be used and their source, finally import and clean the data."
   ]
  },
  {
   "cell_type": "markdown",
   "metadata": {},
   "source": [
    "### A. Factors to consider while deciding where to settle\n",
    "* **Job opportunities**: We have to make a living to support ourselves or our family. And I bet we wish to get our dream job right? So, we need to know what are the common jobs for each neighborhood.\n",
    "* **Cost of living**: We would like to buy our dream house but how much does it cost? Curious of how much should we earn to afford to live in a specific neighborhood? To answer these questions, we need to know the average house price and household income for each neighborhood.\n",
    "* **Ease of transportation**: We need to travel from one point to another for different purposes but what are some available mode of transportation for each neighborhood? So, we need to know how people travel to get the answer.\n",
    "* **Safety**: We wish to live in a safe and peaceful area but how can we determine if the area is safe? To answer these questions, we need to know the crime rate and coronavirus cases for each neighborhood.\n",
    "* **Culture**: Everyone likes to have fun right? So, it's important to know what are some popular places around each neighorhood. For some people, English is not their first language, so they will prefer certain neighborhoods in which they can still communicate in their mother tongue. Hence, we need to know what non-English language spoken most often at home in each neighborhood."
   ]
  },
  {
   "cell_type": "markdown",
   "metadata": {},
   "source": [
    "### B. Description of data and data source\n",
    "| Data       | Data Source     | Data \n",
    "| :------------- | :----------: | -----------: |\n",
    "|  Cell Contents | More Stuff   | And Again    |\n",
    "| You Can Also   | Put Pipes In | Like this \\| |"
   ]
  },
  {
   "cell_type": "markdown",
   "metadata": {},
   "source": [
    "### C. Import data and data wrangling"
   ]
  },
  {
   "cell_type": "code",
   "execution_count": 2,
   "metadata": {},
   "outputs": [],
   "source": [
    "import requests\n",
    "import pandas as pd\n",
    "from pandas.io.json import json_normalize\n",
    "import numpy as np"
   ]
  },
  {
   "cell_type": "code",
   "execution_count": null,
   "metadata": {},
   "outputs": [],
   "source": []
  },
  {
   "cell_type": "code",
   "execution_count": 8,
   "metadata": {},
   "outputs": [],
   "source": [
    "neighborhood_profile_url = 'https://ckan0.cf.opendata.inter.prod-toronto.ca/download_resource/ef0239b1-832b-4d0b-a1f3-4153e53b189e?format=csv'\n",
    "neighborhood_profile_df = pd.read_csv(neighborhood_profile_url)\n",
    "jobs_df = neighborhood_profile_df.loc[1932:1954]\n",
    "transport_df = neighborhood_profile_df.loc[1965:1971]\n",
    "language_df = neighborhood_profile_df.loc[393:670]"
   ]
  },
  {
   "cell_type": "code",
   "execution_count": null,
   "metadata": {},
   "outputs": [],
   "source": [
    "url = 'https://services.arcgis.com/S9th0jAJ7bqgIRjw/arcgis/rest/services/Neighbourhood_MCI/FeatureServer/0/query?where=1%3D1&outFields=Neighbourhood,Hood_ID,Population,Assault_AVG,AutoTheft_AVG,Homicide_AVG,TheftOver_AVG,BreakandEnter_AVG,Robbery_AVG&outSR=4326&f=json'\n",
    "results = requests.get(url).json()\n",
    "crime_data = results['features']\n",
    "dataframe = json_normalize(crime_data)\n",
    "df_temp = pd.DataFrame(columns=['ID','Neighborhood'])\n",
    "df_temp['ID']=dataframe['attributes.Hood_ID']\n",
    "df_temp['Neighborhood']=dataframe['attributes.Neighbourhood']\n",
    "df_temp.sort_values(by='ID',inplace=True)\n",
    "df_temp.reset_index(drop=True,inplace=True)\n",
    "df_temp['Borough']=0\n",
    "df_temp['Borough'][0:20]='Etobicoke'\n",
    "df_temp['Borough'][20:53]='North York'\n",
    "df_temp['Borough'][53:61]='East York'\n",
    "df_temp['Borough'][61:105] = 'Central Toronto'\n",
    "df_temp['Borough'][105:115] = 'York'\n",
    "df_temp['Borough'][115:140] = 'Scarborough'"
   ]
  },
  {
   "cell_type": "code",
   "execution_count": null,
   "metadata": {},
   "outputs": [],
   "source": [
    "\n",
    "df_temp['ID']=np.arange(1,141,1)\n",
    "df_temp"
   ]
  },
  {
   "cell_type": "code",
   "execution_count": null,
   "metadata": {},
   "outputs": [],
   "source": [
    "from bs4 import BeautifulSoup\n",
    "from selenium import webdriver\n",
    "from selenium.webdriver.firefox.options import Options\n",
    "from selenium.webdriver.common.keys import Keys\n",
    "import time\n",
    "\n",
    "def get_neigh_data(borough):\n",
    "    url='https://www.realosophy.com/{}-former-toronto/neighbourhood-map'.format(borough)\n",
    "    driver.get(url)\n",
    "    time.sleep(5)\n",
    "    html= driver.page_source\n",
    "\n",
    "    soup = BeautifulSoup(html,'lxml')\n",
    "    all_divs = soup.find('div',{'class':'row mt-4'})\n",
    "    neighborhoods_data = all_divs.find_all('a')\n",
    "\n",
    "    names = []\n",
    "    websites = []\n",
    "    for neighborhood in neighborhoods_data: \n",
    "        names.append(neighborhood.text)\n",
    "        websites.append(neighborhood['href'])\n",
    "        \n",
    "    pd.DataFrame({'Names':names,'Websites':websites}).to_csv('{}.csv'.format(borough))\n",
    "    print('{} done!'.format(borough))\n",
    "\n",
    "firefoxOptions = Options()\n",
    "firefoxOptions.add_argument('-headless')\n",
    "driver = webdriver.Firefox(options=firefoxOptions)\n",
    "\n",
    "boroughs=['etobicoke','north-york','east-york','central-toronto','york','scarborough']\n",
    "\n",
    "for borough in boroughs:\n",
    "    get_neigh_data(borough)\n",
    "\n",
    "driver.quit()"
   ]
  },
  {
   "cell_type": "code",
   "execution_count": null,
   "metadata": {},
   "outputs": [],
   "source": [
    "eto_df=pd.read_csv('etobicoke.csv')\n",
    "north_df=pd.read_csv('north-york.csv')\n",
    "east_df=pd.read_csv('east-york.csv')\n",
    "central_df=pd.read_csv('central-toronto.csv')\n",
    "york_df=pd.read_csv('york.csv')\n",
    "scar_df=pd.read_csv('scarborough.csv')"
   ]
  },
  {
   "cell_type": "code",
   "execution_count": null,
   "metadata": {},
   "outputs": [],
   "source": [
    "eto_df.head()"
   ]
  },
  {
   "cell_type": "code",
   "execution_count": null,
   "metadata": {},
   "outputs": [],
   "source": [
    "neigh_id_website_df = pd.concat([eto_df,north_df,east_df,central_df,york_df,scar_df])"
   ]
  },
  {
   "cell_type": "code",
   "execution_count": null,
   "metadata": {},
   "outputs": [],
   "source": [
    "neigh_id_website_df.drop(['Unnamed: 0','Names'],axis=1,inplace=True)\n",
    "neigh_id_website_df.sort_values('ID',inplace=True)\n",
    "neigh_id_website_df.reset_index(drop=True,inplace=True)"
   ]
  },
  {
   "cell_type": "code",
   "execution_count": null,
   "metadata": {},
   "outputs": [],
   "source": [
    "neigh_id_website_df.to_csv('neigh_id_website.csv')"
   ]
  },
  {
   "cell_type": "code",
   "execution_count": null,
   "metadata": {
    "scrolled": true
   },
   "outputs": [],
   "source": [
    "neigh_id_website_df.head()"
   ]
  },
  {
   "cell_type": "code",
   "execution_count": null,
   "metadata": {},
   "outputs": [],
   "source": [
    "neigh_id_website_df['Avg House Price']=0\n",
    "neigh_id_website_df['Avg Income']=0\n",
    "neigh_id_website_df.head()"
   ]
  },
  {
   "cell_type": "code",
   "execution_count": null,
   "metadata": {},
   "outputs": [],
   "source": [
    "def get_number_only(variable):\n",
    "    clear_space = variable.text.strip()\n",
    "    clear_dollarsign = clear_space.replace('$','')\n",
    "    clear_character = clear_dollarsign.replace(',','')\n",
    "    if 'M' in clear_character:\n",
    "        string = clear_character.replace('M','')\n",
    "        number = float(string)\n",
    "        result = int(number*1000000)\n",
    "        return result\n",
    "    else:\n",
    "        string = clear_character.replace('K','')\n",
    "        number = int(string)\n",
    "        result = number*1000\n",
    "        return result"
   ]
  },
  {
   "cell_type": "code",
   "execution_count": null,
   "metadata": {
    "scrolled": true
   },
   "outputs": [],
   "source": [
    "from bs4 import BeautifulSoup\n",
    "from selenium import webdriver\n",
    "from selenium.webdriver.firefox.options import Options\n",
    "from selenium.webdriver.common.keys import Keys\n",
    "import time\n",
    "\n",
    "pd.set_option('display.max_rows', None)\n",
    "pd.set_option('display.max_columns', None)\n",
    "\n",
    "firefoxOptions = Options()\n",
    "firefoxOptions.add_argument('-headless')\n",
    "driver = webdriver.Firefox(options=firefoxOptions)\n",
    "\n",
    "for i in range(len(neigh_id_website_df['Websites'])):\n",
    "    url='https://www.realosophy.com{}'.format(neigh_id_website_df['Websites'][i])\n",
    "    driver.get(url)\n",
    "    time.sleep(5)\n",
    "    html= driver.page_source\n",
    "\n",
    "    soup = BeautifulSoup(html,'lxml')\n",
    "    avg_house_price_data = soup.find('div',{'class':'key-stats__avg-sale-price ng-binding ng-scope'})        \n",
    "    avg_income_data = soup.find('p',{'class': 'h3 font-sans-caption-bold mb-0 text-center text-sm-left ng-binding ng-scope'})\n",
    "\n",
    "    while avg_house_price_data == None or avg_income_data == None:\n",
    "        url='https://www.realosophy.com{}'.format(neigh_id_website_df['Websites'][i])\n",
    "        driver.get(url)\n",
    "        time.sleep(5)\n",
    "        html= driver.page_source\n",
    "\n",
    "        soup = BeautifulSoup(html,'lxml')\n",
    "        avg_house_price_data = soup.find('div',{'class':'key-stats__avg-sale-price ng-binding ng-scope'})        \n",
    "        avg_income_data = soup.find('p',{'class': 'h3 font-sans-caption-bold mb-0 text-center text-sm-left ng-binding ng-scope'})\n",
    "    \n",
    "    neigh_id_website_df['Avg House Price'][i] = get_number_only(avg_house_price_data)\n",
    "    neigh_id_website_df['Avg Income'][i] = get_number_only(avg_income_data)\n",
    "    \n",
    "    print(neigh_id_website_df['ID'][i])\n",
    "    \n",
    "driver.quit()"
   ]
  },
  {
   "cell_type": "code",
   "execution_count": null,
   "metadata": {},
   "outputs": [],
   "source": [
    "neigh_id_website_df.to_csv('neigh_houseprice_raw.csv')"
   ]
  },
  {
   "cell_type": "code",
   "execution_count": null,
   "metadata": {},
   "outputs": [],
   "source": [
    "neigh_houseprice_raw = neigh_id_website_df.groupby('ID').mean()"
   ]
  },
  {
   "cell_type": "code",
   "execution_count": null,
   "metadata": {},
   "outputs": [],
   "source": [
    "neigh_houseprice_raw['Avg House Price']=neigh_houseprice_raw['Avg House Price'].astype(int)"
   ]
  },
  {
   "cell_type": "code",
   "execution_count": null,
   "metadata": {},
   "outputs": [],
   "source": [
    "neigh_houseprice_raw['Avg Income']=neigh_houseprice_raw['Avg Income'].astype(int)"
   ]
  },
  {
   "cell_type": "code",
   "execution_count": null,
   "metadata": {},
   "outputs": [],
   "source": [
    "neigh_houseprice_raw.to_csv('neigh_houseprice_grouped.csv')"
   ]
  },
  {
   "cell_type": "code",
   "execution_count": null,
   "metadata": {},
   "outputs": [],
   "source": [
    "import pandas as pd\n",
    "pd.set_option('display.max_rows', None)\n",
    "pd.set_option('display.max_columns', None)\n",
    "neigh_houseprice_grouped = pd.read_csv('neigh_houseprice_grouped.csv')\n",
    "neigh_houseprice_grouped"
   ]
  },
  {
   "cell_type": "code",
   "execution_count": null,
   "metadata": {},
   "outputs": [],
   "source": [
    "toronto_neigh_houseprice_df = df_temp.set_index('ID').join(neigh_houseprice_grouped.set_index('ID'))"
   ]
  },
  {
   "cell_type": "code",
   "execution_count": null,
   "metadata": {},
   "outputs": [],
   "source": [
    "toronto_neigh_houseprice_df.to_csv('toronto_neigh_houseprice.csv')"
   ]
  },
  {
   "cell_type": "markdown",
   "metadata": {},
   "source": [
    "## 3. Methodology<a name=\"methodology\"></a>"
   ]
  },
  {
   "cell_type": "markdown",
   "metadata": {},
   "source": [
    "## 4. Results<a name=\"results\"></a>"
   ]
  },
  {
   "cell_type": "markdown",
   "metadata": {},
   "source": [
    "## 5. Discussion<a name=\"discussion\"></a>"
   ]
  },
  {
   "cell_type": "markdown",
   "metadata": {},
   "source": [
    "## 6. Conclusion<a name=\"conclusion\"></a>"
   ]
  },
  {
   "cell_type": "markdown",
   "metadata": {},
   "source": [
    "### Thank you for reading this notebook! Feel free to read the __[full report]()__ and the __[blogpost]()__ too! \n",
    "\n",
    "## Author  \n",
    "__[Titus Chin Jun Hong](https://www.linkedin.com/in/joseph-s-50398b136/)__  \n",
    "**10 November 2020**"
   ]
  }
 ],
 "metadata": {
  "kernelspec": {
   "display_name": "Python 3",
   "language": "python",
   "name": "python3"
  },
  "language_info": {
   "codemirror_mode": {
    "name": "ipython",
    "version": 3
   },
   "file_extension": ".py",
   "mimetype": "text/x-python",
   "name": "python",
   "nbconvert_exporter": "python",
   "pygments_lexer": "ipython3",
   "version": "3.8.5"
  }
 },
 "nbformat": 4,
 "nbformat_minor": 4
}
