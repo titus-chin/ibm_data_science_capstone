{
 "cells": [
  {
   "cell_type": "markdown",
   "metadata": {},
   "source": [
    "# Toronto's Neighborhoods Recommender System\n",
    "<img src=\"https://external-content.duckduckgo.com/iu/?u=https%3A%2F%2Fwww.wallpaperup.com%2Fuploads%2Fwallpapers%2F2013%2F12%2F19%2F199807%2F4d86b2357c55ff2bc433fc0af0705b97.jpg&f=1&nofb=1/toronto.jpeg%E2%80%9D\" alt=\"toronto\" align=\"left\" width=\"600\" />"
   ]
  },
  {
   "cell_type": "markdown",
   "metadata": {},
   "source": [
    "## Table of Contents\n",
    "1. **[Introduction](#introduction)**\n",
    "2. **[Data](#data)**  \n",
    "3. **[Methodology](#methodology)**\n",
    "4. **[Results](#results)**\n",
    "5. **[Discussion](#discussion)**\n",
    "6. **[Conclusion](#conclusion)**"
   ]
  },
  {
   "cell_type": "markdown",
   "metadata": {},
   "source": [
    "## 1. Introduction<a name=\"introduction\"></a>\n",
    "According to __[CIC News](https://www.cicnews.com/2020/02/which-cities-in-canada-attract-the-most-immigrants-0213741.html#)__, Canada welcomed more than 341,000 immigrants in 2019 and Toronto has successfully attracted nearly 118,000 immigrants which contribute to almost 35% of the total number of immigrants. **The statistics indicate that most of the immigrants prefer to settle in Toronto over other cities.** Why? __[VisaPlace](https://www.visaplace.com/blog-immigration-law/why-immigrants-settle-in-toronto-heres-10-reasons/)__ has listed out 10 reasons for this question. For me, the most convincing reason is Toronto is Canada’s business and financial capital, that's why immigrants prefer it.\n",
    "\n",
    "Toronto is Canada’s largest city, it has 6 boroughs which are Etobicoke, North York, East York, Central Toronto, York and Scarborough. These 6 boroughs can be further divided into 140 neighborhoods. According to __[City of Toronto](https://www.toronto.ca/community-people/moving-to-toronto/about-toronto/)__, Toronto is one of the most multicultural cities in the world due to its large population of immigrants all over the world, each Toronto's neighborhood might be quite different from one another. **Therefore, out of 140 neighborhoods in Toronto, how can immigrants decide which neighborhood suits them best?** This is exactly what I want to resolve in this project.\n",
    "\n",
    "**In this project, I will try to build a Toronto's neighborhoods recommender system based on 4 factors including job opportunities, cost of living, safety and culture.** So, who would be interested in this recommender system? I can say that at least 118,000 people would and I believe that this number will be growing in the future. And of course, I can't wait to find out which neighborhood suit me best too because I wish to migrate to Canada and settle in Toronto in the future. How about you?"
   ]
  },
  {
   "cell_type": "markdown",
   "metadata": {},
   "source": [
    "## 2. Data<a name=\"data\"></a> \n",
    "Previously, I mentioned that the Toronto's neighborhoods recommender system is built on job opportunities, cost of living, safety and culture. In this section, I will explain why these factors are important, describe the data that will be used and their source, finally import and clean the data."
   ]
  },
  {
   "cell_type": "markdown",
   "metadata": {},
   "source": [
    "### A. Factors to consider while deciding where to settle\n",
    "* **Job opportunities**: We have to make a living to support ourselves or our family. And I bet we wish to get our dream job right? So, we need to know what are the common jobs for each neighborhood.\n",
    "* **Cost of living**: We would like to buy our dream house but how much does it cost? Curious of how much should we earn to afford to live in a specific neighborhood? To answer these questions, we need to know the average house price and household income for each neighborhood.\n",
    "* **Safety**: We wish to live in a safe and peaceful area but how can we determine if the area is safe? To answer these questions, we need to know the crime rate for each neighborhood.\n",
    "* **Culture**: We will talk and eat everyday. If possible, we would like to communicate in our favorite language and eat our favorite food right? And it's even better if our favorite things are just around us. So, it's important to know what are the language spoken most often at home and what are the popular food in each neighborhood."
   ]
  },
  {
   "cell_type": "markdown",
   "metadata": {},
   "source": [
    "### B. Description of data and data source\n",
    "|No.| Data           | Data Description  |   Data Source   | \n",
    "|:-------------| :------------- | :---------- | :----------- |\n",
    "|I. | Common jobs| These data show the common jobs for each neighborhood. The data categorize jobs according to North American Industry Classification System (NAICS) 2012. For example: 54-Professional, scientific and technical services, 23-Construction, etc. | I extracted the data from the __[2016 Toronto Neighborhood Profiles](https://ckan0.cf.opendata.inter.prod-toronto.ca/download_resource/ef0239b1-832b-4d0b-a1f3-4153e53b189e?format=csv)__. City of Toronto uses the 2016 Canadian Census to provide a portrait of the demographic, social and economic characteristics of the people and households in each Toronto's neighbourhood. |\n",
    "|II. | Average house price and household income | These data show the average house price and household income for each neighborhood in Canadian Dollar (CAD). The home affordability for each neighborhood also calculated.| I scraped the data current as of October 2020 from __[Realosophy](https://www.realosophy.com/toronto/neighbourhood-map)__. Realosophy is a real estate brokerage company that helps their customers make better decision based on data. |\n",
    "|III. |Crime rate| These data show the crime rate per 100,000 people for each neighborhood. | I get the data from the __[Toronto Neighborhood Crime Rates Boundary File](https://data.torontopolice.on.ca/datasets/neighbourhood-crime-rates-boundary-file-?geometry=-79.598%2C43.673%2C-79.158%2C43.760&orderBy=OBJECTID&page=6)__ by calling a REST API from Toronto Police Service. The file contains the 2014-2019 crime data by neighbourhood. |\n",
    "|IV. |Language spoken most often at home|  These data show the language spoken most often at home in each neighborhood. For example: English, Spanish, Italian, French, etc.  | I extracted the data from the __[2016 Toronto Neighborhood Profiles](https://ckan0.cf.opendata.inter.prod-toronto.ca/download_resource/ef0239b1-832b-4d0b-a1f3-4153e53b189e?format=csv)__. |\n",
    "|V. |Popular food| These data show the popular food categories around each neighborhood according to Foursquare API. For example: Italian food, Korean food, Japanese food, etc. | I get the data through __[Foursqure API](https://developer.foursquare.com/docs/)__. Foursquare is a location technology platform dedicated to improve how people move through the real world. |\n",
    "|VI. |Boundaries of neighborhoods| These data contain the boundary of each neighborhood in GeoJSON file. These data are used to create the boundary of each neighborhood on a map. | I get the data from __[Boundaries of Toronto's Neighbourhoods](https://ckan0.cf.opendata.inter.prod-toronto.ca/download_resource/a083c865-6d60-4d1d-b6c6-b0c8a85f9c15?format=geojson&projection=4326)__. City of Toronto made the data available on its open data portal. |"
   ]
  },
  {
   "cell_type": "markdown",
   "metadata": {},
   "source": [
    "### C. Import data and data wrangling"
   ]
  },
  {
   "cell_type": "markdown",
   "metadata": {},
   "source": [
    "#### I. Common jobs data\n",
    "Now, let's import and clean the common jobs data first."
   ]
  },
  {
   "cell_type": "code",
   "execution_count": 1,
   "metadata": {},
   "outputs": [],
   "source": [
    "# import necessary library\n",
    "import pandas as pd\n",
    "pd.set_option('display.max_rows',None)\n",
    "pd.set_option('display.max_columns',None)"
   ]
  },
  {
   "cell_type": "code",
   "execution_count": 2,
   "metadata": {},
   "outputs": [],
   "source": [
    "def get_whole_toronto(dataframe):\n",
    "    row_total=pd.DataFrame(dataframe.sum()).T\n",
    "    row_total.iloc[[0,0],[0,1]]=['Whole Toronto',0]\n",
    "    for columns in row_total.columns[2:]:\n",
    "        row_total[columns]=int(row_total[columns]/140)\n",
    "    temp_df=pd.concat([dataframe,row_total])\n",
    "    temp_df['ID']=temp_df['ID'].astype(int)\n",
    "    temp_df=temp_df.sort_values('ID').reset_index(drop=True)\n",
    "    return temp_df"
   ]
  },
  {
   "cell_type": "code",
   "execution_count": null,
   "metadata": {},
   "outputs": [],
   "source": [
    "# define a function to return a dataframe of top 5 elements\n",
    "def get_top5_elements(dataframe,column_name):\n",
    "    first_element=[]\n",
    "    second_element=[]\n",
    "    third_element=[]\n",
    "    fourth_element=[]\n",
    "    fifth_element=[]\n",
    "    first_column=dataframe.iloc[:,0].values\n",
    "    second_column=dataframe.iloc[:,1].values\n",
    "    for i in range(141):\n",
    "        sorted_elements=dataframe.iloc[i,2:].sort_values(ascending=False).index\n",
    "        first_element.append(sorted_elements[0])\n",
    "        second_element.append(sorted_elements[1])\n",
    "        third_element.append(sorted_elements[2])\n",
    "        fourth_element.append(sorted_elements[3])\n",
    "        fifth_element.append(sorted_elements[4])\n",
    "    return pd.DataFrame({'Neighborhood':first_column,'ID':second_column,'1st Most Common {}'.format(column_name):first_element,\n",
    "                         '2nd Most Common {}'.format(column_name):second_element,'3rd Most Common {}'.format(column_name):third_element,\n",
    "                         '4th Most Common {}'.format(column_name):fourth_element,'5th Most Common {}'.format(column_name):fifth_element})"
   ]
  },
  {
   "cell_type": "code",
   "execution_count": null,
   "metadata": {
    "scrolled": false
   },
   "outputs": [],
   "source": [
    "# import the 2016 toronto neighborhood profiles into toronto_2016_df and clean the dataframe\n",
    "toronto_2016_df=pd.read_csv('https://ckan0.cf.opendata.inter.prod-toronto.ca/download_resource/ef0239b1-832b-4d0b-a1f3-4153e53b189e?format=csv')\n",
    "toronto_2016_df.drop(['_id','Category','Data Source','City of Toronto'],axis=1,inplace=True)\n",
    "index=['Neighbourhood Number']\n",
    "\n",
    "# extract common jobs data from toronto_2016_df into common_jobs_df and clean the dataframe\n",
    "common_jobs_df=toronto_2016_df[(toronto_2016_df['Topic']=='Industry - North American Industry Classification System (NAICS) 2012')|\n",
    "                               toronto_2016_df['Characteristic'].isin(index)].drop('Topic',axis=1).set_index('Characteristic').T\n",
    "common_jobs_df.columns=common_jobs_df.columns.str.strip()\n",
    "common_jobs_df=common_jobs_df.drop(['Total Labour Force population aged 15 years and over by Industry - North American Industry Classification System (NAICS) 2012 - 25% sample data',\n",
    "                                    'Industry - NAICS2012 - not applicable','All industry categories'],axis=1)\n",
    "common_jobs_df=common_jobs_df.replace(',','',regex=True).astype(int).sort_values(index).rename_axis(None,axis=1).reset_index()\n",
    "common_jobs_df.rename(columns={'index':'Neighborhood','Neighbourhood Number':'ID'},inplace=True)\n",
    "common_jobs_df=get_whole_toronto(common_jobs_df)\n",
    "\n",
    "# get top 5 common jobs and save the data into top5_common_jobs_df\n",
    "top5_common_jobs_df=get_top5_elements(common_jobs_df,'Job')\n",
    "top5_common_jobs_df.head()"
   ]
  },
  {
   "cell_type": "code",
   "execution_count": null,
   "metadata": {
    "scrolled": false
   },
   "outputs": [],
   "source": [
    "# normalize the common_jobs_df\n",
    "common_jobs_df=common_jobs_df.drop(0).reset_index(drop=True)\n",
    "common_jobs_df['Job Opportunity']=common_jobs_df.iloc[:,2:].sum(axis=1)\n",
    "columns_to_normalize=common_jobs_df.columns[2:]\n",
    "for columns in columns_to_normalize:\n",
    "    common_jobs_df[columns]=common_jobs_df[columns]/common_jobs_df[columns].max()\n",
    "    common_jobs_df[columns]=common_jobs_df[columns].astype(float).round(3)\n",
    "common_jobs_df.head()"
   ]
  },
  {
   "cell_type": "markdown",
   "metadata": {},
   "source": [
    "#### II. Average house price and household income data\n",
    "Now, let's scrape the average house price and household income data from Realosophy and clean the data."
   ]
  },
  {
   "cell_type": "code",
   "execution_count": 3,
   "metadata": {},
   "outputs": [],
   "source": [
    "# import necessary libraries\n",
    "from selenium import webdriver\n",
    "from selenium.webdriver.firefox.options import Options\n",
    "import time\n",
    "from bs4 import BeautifulSoup\n",
    "import numpy as np\n",
    "firefox_options=Options()\n",
    "firefox_options.add_argument('-headless')"
   ]
  },
  {
   "cell_type": "code",
   "execution_count": null,
   "metadata": {},
   "outputs": [],
   "source": [
    "# define a function to scrape each neighborhood's name and website by borough\n",
    "def get_neighborhood_websites(borough):\n",
    "    neighborhoods_list_driver=webdriver.Firefox(options=firefox_options)\n",
    "    neighborhoods_list_driver.get('https://www.realosophy.com/{}-former-toronto/neighbourhood-map'.format(borough))\n",
    "    time.sleep(5)\n",
    "    neighborhoods_list_html=neighborhoods_list_driver.page_source\n",
    "    neighborhoods_list_html_scraper=BeautifulSoup(neighborhoods_list_html,'lxml')\n",
    "    neighborhoods_list_raw_data=neighborhoods_list_html_scraper.find('div',{'class':'row mt-4'})\n",
    "    neighborhoods_list_data=neighborhoods_list_raw_data.find_all('a')\n",
    "    neighborhood=[]\n",
    "    website=[]\n",
    "    for neighborhoods_list in neighborhoods_list_data:\n",
    "        neighborhood.append(neighborhoods_list.text)\n",
    "        website_temp=neighborhoods_list['href'].replace('/','https://www.realosophy.com/',1)\n",
    "        website.append(website_temp)\n",
    "    neighborhoods_list_driver.quit()\n",
    "    print('...',end='')\n",
    "    return pd.DataFrame({'Neighborhood':neighborhood,'Website':website})"
   ]
  },
  {
   "cell_type": "code",
   "execution_count": null,
   "metadata": {},
   "outputs": [],
   "source": [
    "# define a function to get the avg house price or household income in numerical result\n",
    "def get_number_only(money_in_str):\n",
    "    clear_space=money_in_str.text.strip()\n",
    "    clear_dollar_sign=clear_space.replace('$','')\n",
    "    clear_character=clear_dollar_sign.replace(',','')\n",
    "    if 'M' in clear_character:\n",
    "        string=clear_character.replace('M','')\n",
    "        number=float(string)\n",
    "        result=int(number*1000000)\n",
    "        return result\n",
    "    else:\n",
    "        string=clear_character.replace('K','')\n",
    "        number=float(string)\n",
    "        result=int(number*1000)\n",
    "        return result"
   ]
  },
  {
   "cell_type": "code",
   "execution_count": 22,
   "metadata": {},
   "outputs": [],
   "source": [
    "def get_categories(dataframe):\n",
    "    temp_df=dataframe\n",
    "    temp_df=temp_df.drop(0)\n",
    "    for columns in temp_df.columns[2:]:\n",
    "        Q1=temp_df[columns].quantile(0.25)\n",
    "        Q3=temp_df[columns].quantile(0.75)\n",
    "        IQR=Q3-Q1\n",
    "        temp_df_min=Q1-1.5*IQR\n",
    "        temp_df_max=Q3+1.5*IQR\n",
    "        temp_bins=temp_df[columns][~((temp_df[columns]<temp_df_min)|(temp_df[columns]>temp_df_max))]\n",
    "        bins=np.linspace(min(temp_bins),max(temp_bins),4)\n",
    "        bins=bins.astype(int)\n",
    "        dataframe['{} Categories'.format(columns)]='Dunno'\n",
    "        for i in range(141):\n",
    "            if dataframe[columns][i]<bins[1]:\n",
    "                dataframe['{} Categories'.format(columns)][i]='Low (<{:,d})'.format(bins[1])\n",
    "            elif dataframe[columns][i]>bins[2]:\n",
    "                dataframe['{} Categories'.format(columns)][i]='High (>{:,d})'.format(bins[2])\n",
    "            else:\n",
    "                dataframe['{} Categories'.format(columns)][i]='Medium ({:,d}-{:,d})'.format(bins[1],bins[2])\n",
    "    return dataframe"
   ]
  },
  {
   "cell_type": "code",
   "execution_count": null,
   "metadata": {
    "scrolled": true
   },
   "outputs": [],
   "source": [
    "# scrape etobicoke's neighborhoods and websites into etobicoke_website_df then insert neighborhoods ID\n",
    "print('Almost...',end='')\n",
    "etobicoke_website_df=get_neighborhood_websites('etobicoke')\n",
    "etobicoke_website_df.drop(25,inplace=True)\n",
    "etobicoke_website_df['ID']=[20,11,1,14,13,17,8,9,14,6,19,12,17,18,10,14,4,7,2,16,5,15,16,3,11]\n",
    "\n",
    "# scrape north york's neighborhoods and websites into north_york_website_df then insert neighborhoods ID\n",
    "north_york_website_df=get_neighborhood_websites('north-york')\n",
    "north_york_website_df.loc[len(north_york_website_df.index)]=north_york_website_df.loc[31,:]\n",
    "north_york_website_df.loc[len(north_york_website_df.index)]=north_york_website_df.loc[39,:]\n",
    "north_york_website_df['ID']=[38,42,34,52,49,43,24,41,30,39,33,39,42,47,45,26,44,31,25,45,53,48,41,21,23,22,38,32,\n",
    "                             41,39,29,36,45,23,46,28,43,41,35,37,40,27,31,50,51]\n",
    "\n",
    "# scrape east york's neighborhoods and websites into east_york_website_df then insert neighborhoods ID\n",
    "east_york_website_df=get_neighborhood_websites('east-york')\n",
    "east_york_website_df['ID']=[56,57,59,61,56,58,54,55,54,54,60]\n",
    "\n",
    "# scrape central toronto's neighborhoods and websites into central_toronto_website_df then insert neighborhoods ID\n",
    "central_toronto_website_df=get_neighborhood_websites('central-toronto')\n",
    "central_toronto_website_df=central_toronto_website_df.drop([16,47,69,74]).reset_index(drop=True)\n",
    "central_toronto_website_df.loc[len(central_toronto_website_df.index)]=central_toronto_website_df.loc[39,:]\n",
    "central_toronto_website_df.loc[len(central_toronto_website_df.index)]=central_toronto_website_df.loc[35,:]\n",
    "central_toronto_website_df.loc[len(central_toronto_website_df.index)]=central_toronto_website_df.loc[20,:]\n",
    "central_toronto_website_df['ID']=[78,103,76,84,105,80,89,83,71,91,96,100,78,93,75,77,73,66,93,99,97,77,93,83,92,77,\n",
    "                                  77,76,101,102,82,77,77,90,87,94,74,78,70,82,81,103,98,73,103,67,96,92,72,68,70,\n",
    "                                  86,98,95,79,77,96,85,73,74,77,97,87,105,95,63,67,90,69,81,82,62,93,77,64,75,95,\n",
    "                                  65,88,104]\n",
    "\n",
    "# scrape york's neighborhoods and websites into york_website_df then insert neighborhoods ID\n",
    "york_website_df=get_neighborhood_websites('york')\n",
    "york_website_df=york_website_df.drop(11).reset_index(drop=True)\n",
    "york_website_df['ID']=[114,112,108,109,106,110,114,115,107,114,111,113]\n",
    "\n",
    "# scrape scarborough's neighborhoods and websites into scarborough_website_df then insert neighborhoods ID\n",
    "scarborough_website_df=get_neighborhood_websites('scarborough')\n",
    "scarborough_website_df.loc[len(scarborough_website_df.index)]=scarborough_website_df.loc[0,:]\n",
    "scarborough_website_df['ID']=[128,127,122,120,120,123,122,126,138,140,134,125,124,117,132,119,130,135,135,121,133,\n",
    "                              131,139,116,118,136,131,119,137,129]\n",
    "\n",
    "# concatenate etobicoke_website_df, north_york_website_df, east_york_website_df, central_toronto_website_df,\n",
    "# york_website_df and scarborough_website_df into neighborhood_website_df\n",
    "neighborhood_website_df=pd.concat([etobicoke_website_df,north_york_website_df,east_york_website_df,\n",
    "                                  central_toronto_website_df,york_website_df,scarborough_website_df])\n",
    "neighborhood_website_df=neighborhood_website_df.sort_values('ID').reset_index(drop=True)\n",
    "print('...Done!',end='')\n",
    "neighborhood_website_df.head()"
   ]
  },
  {
   "cell_type": "code",
   "execution_count": null,
   "metadata": {
    "scrolled": false
   },
   "outputs": [],
   "source": [
    "# scrape average house price and household income for each neighborhood into neighborhood_website_df\n",
    "print('Progress:',end='')\n",
    "avg_houseprice_income_driver=webdriver.Firefox(options=firefox_options)\n",
    "neighborhood_website_df['Avg House Price']=0\n",
    "neighborhood_website_df['Avg Household Income']=0\n",
    "for i in range(len(neighborhood_website_df['ID'])):\n",
    "    avg_houseprice_income_driver.get(neighborhood_website_df['Website'][i])\n",
    "    time.sleep(5)\n",
    "    avg_houseprice_income_html=avg_houseprice_income_driver.page_source\n",
    "    avg_houseprice_income_scraper=BeautifulSoup(avg_houseprice_income_html,'lxml')\n",
    "    avg_houseprice_data=avg_houseprice_income_scraper.find('div',{'class':'key-stats__avg-sale-price ng-binding ng-scope'})        \n",
    "    avg_income_data=avg_houseprice_income_scraper.find('p',{'class':'h3 font-sans-caption-bold mb-0 text-center text-sm-left ng-binding ng-scope'})\n",
    "    while avg_houseprice_data==None or avg_income_data==None:\n",
    "        avg_houseprice_income_driver.get(neighborhood_website_df['Website'][i])\n",
    "        time.sleep(5)\n",
    "        avg_houseprice_income_html=avg_houseprice_income_driver.page_source\n",
    "        avg_houseprice_income_scraper=BeautifulSoup(avg_houseprice_income_html,'lxml')\n",
    "        avg_houseprice_data=avg_houseprice_income_scraper.find('div',{'class':'key-stats__avg-sale-price ng-binding ng-scope'})        \n",
    "        avg_income_data=avg_houseprice_income_scraper.find('p',{'class':'h3 font-sans-caption-bold mb-0 text-center text-sm-left ng-binding ng-scope'})\n",
    "    neighborhood_website_df['Avg House Price'][i]=get_number_only(avg_houseprice_data)\n",
    "    neighborhood_website_df['Avg Household Income'][i]=get_number_only(avg_income_data)\n",
    "    print('.',end='')\n",
    "avg_houseprice_income_driver.quit()\n",
    "\n",
    "# group neighborhood_website_df by neighborhood ID and save the data into avg_houseprice_income_df\n",
    "neighborhood_website_df.drop('Neighborhood',axis=1,inplace=True)\n",
    "neighborhood_website_df=neighborhood_website_df.groupby('ID').mean().reset_index()\n",
    "neighborhood_website_df['Avg House Price']=neighborhood_website_df['Avg House Price'].astype(int)\n",
    "neighborhood_website_df['Avg Household Income']=neighborhood_website_df['Avg Household Income'].astype(int)\n",
    "avg_houseprice_income_df=common_jobs_df.iloc[:,0:2]\n",
    "avg_houseprice_income_df['Avg House Price']=neighborhood_website_df['Avg House Price']\n",
    "avg_houseprice_income_df['Avg Household Income']=neighborhood_website_df['Avg Household Income']\n",
    "avg_houseprice_income_df=get_whole_toronto(avg_houseprice_income_df)\n",
    "print('...Done!')\n",
    "avg_houseprice_income_df.head()"
   ]
  },
  {
   "cell_type": "code",
   "execution_count": 26,
   "metadata": {},
   "outputs": [],
   "source": [
    "avg_houseprice_income_df=pd.read_csv('avg_houseprice_income.csv')\n",
    "avg_houseprice_income_df.drop('Unnamed: 0',axis=1,inplace=True)\n",
    "avg_houseprice_income_df=get_whole_toronto(avg_houseprice_income_df)"
   ]
  },
  {
   "cell_type": "code",
   "execution_count": 27,
   "metadata": {},
   "outputs": [
    {
     "name": "stderr",
     "output_type": "stream",
     "text": [
      "<ipython-input-22-df22209f9fd5>:20: SettingWithCopyWarning: \n",
      "A value is trying to be set on a copy of a slice from a DataFrame\n",
      "\n",
      "See the caveats in the documentation: http://pandas.pydata.org/pandas-docs/stable/user_guide/indexing.html#returning-a-view-versus-a-copy\n",
      "  dataframe['{} Categories'.format(columns)][i]='Medium ({:,d}-{:,d})'.format(bins[1],bins[2])\n",
      "<ipython-input-22-df22209f9fd5>:16: SettingWithCopyWarning: \n",
      "A value is trying to be set on a copy of a slice from a DataFrame\n",
      "\n",
      "See the caveats in the documentation: http://pandas.pydata.org/pandas-docs/stable/user_guide/indexing.html#returning-a-view-versus-a-copy\n",
      "  dataframe['{} Categories'.format(columns)][i]='Low (<{:,d})'.format(bins[1])\n",
      "<ipython-input-22-df22209f9fd5>:18: SettingWithCopyWarning: \n",
      "A value is trying to be set on a copy of a slice from a DataFrame\n",
      "\n",
      "See the caveats in the documentation: http://pandas.pydata.org/pandas-docs/stable/user_guide/indexing.html#returning-a-view-versus-a-copy\n",
      "  dataframe['{} Categories'.format(columns)][i]='High (>{:,d})'.format(bins[2])\n"
     ]
    },
    {
     "data": {
      "text/html": [
       "<div>\n",
       "<style scoped>\n",
       "    .dataframe tbody tr th:only-of-type {\n",
       "        vertical-align: middle;\n",
       "    }\n",
       "\n",
       "    .dataframe tbody tr th {\n",
       "        vertical-align: top;\n",
       "    }\n",
       "\n",
       "    .dataframe thead th {\n",
       "        text-align: right;\n",
       "    }\n",
       "</style>\n",
       "<table border=\"1\" class=\"dataframe\">\n",
       "  <thead>\n",
       "    <tr style=\"text-align: right;\">\n",
       "      <th></th>\n",
       "      <th>Neighborhood</th>\n",
       "      <th>ID</th>\n",
       "      <th>Avg House Price</th>\n",
       "      <th>Avg Household Income</th>\n",
       "      <th>Home Affordability</th>\n",
       "      <th>Avg House Price Categories</th>\n",
       "      <th>Avg Household Income Categories</th>\n",
       "      <th>Home Affordability Categories</th>\n",
       "    </tr>\n",
       "  </thead>\n",
       "  <tbody>\n",
       "    <tr>\n",
       "      <th>0</th>\n",
       "      <td>Whole Toronto</td>\n",
       "      <td>0</td>\n",
       "      <td>1102194</td>\n",
       "      <td>130501</td>\n",
       "      <td>52.922</td>\n",
       "      <td>Medium (964,000-1,432,000)</td>\n",
       "      <td>Medium (106,666-152,333)</td>\n",
       "      <td>Medium (48-63)</td>\n",
       "    </tr>\n",
       "    <tr>\n",
       "      <th>1</th>\n",
       "      <td>West Humber-Clairville</td>\n",
       "      <td>1</td>\n",
       "      <td>587000</td>\n",
       "      <td>94000</td>\n",
       "      <td>71.577</td>\n",
       "      <td>Low (&lt;964,000)</td>\n",
       "      <td>Low (&lt;106,666)</td>\n",
       "      <td>High (&gt;63)</td>\n",
       "    </tr>\n",
       "    <tr>\n",
       "      <th>2</th>\n",
       "      <td>Mount Olive-Silverstone-Jamestown</td>\n",
       "      <td>2</td>\n",
       "      <td>578000</td>\n",
       "      <td>79000</td>\n",
       "      <td>61.092</td>\n",
       "      <td>Low (&lt;964,000)</td>\n",
       "      <td>Low (&lt;106,666)</td>\n",
       "      <td>Medium (48-63)</td>\n",
       "    </tr>\n",
       "    <tr>\n",
       "      <th>3</th>\n",
       "      <td>Thistletown-Beaumond Heights</td>\n",
       "      <td>3</td>\n",
       "      <td>898000</td>\n",
       "      <td>94000</td>\n",
       "      <td>46.788</td>\n",
       "      <td>Low (&lt;964,000)</td>\n",
       "      <td>Low (&lt;106,666)</td>\n",
       "      <td>Low (&lt;48)</td>\n",
       "    </tr>\n",
       "    <tr>\n",
       "      <th>4</th>\n",
       "      <td>Rexdale-Kipling</td>\n",
       "      <td>4</td>\n",
       "      <td>744000</td>\n",
       "      <td>91000</td>\n",
       "      <td>54.670</td>\n",
       "      <td>Low (&lt;964,000)</td>\n",
       "      <td>Low (&lt;106,666)</td>\n",
       "      <td>Medium (48-63)</td>\n",
       "    </tr>\n",
       "  </tbody>\n",
       "</table>\n",
       "</div>"
      ],
      "text/plain": [
       "                        Neighborhood  ID  Avg House Price  \\\n",
       "0                      Whole Toronto   0          1102194   \n",
       "1             West Humber-Clairville   1           587000   \n",
       "2  Mount Olive-Silverstone-Jamestown   2           578000   \n",
       "3       Thistletown-Beaumond Heights   3           898000   \n",
       "4                    Rexdale-Kipling   4           744000   \n",
       "\n",
       "   Avg Household Income  Home Affordability  Avg House Price Categories  \\\n",
       "0                130501              52.922  Medium (964,000-1,432,000)   \n",
       "1                 94000              71.577              Low (<964,000)   \n",
       "2                 79000              61.092              Low (<964,000)   \n",
       "3                 94000              46.788              Low (<964,000)   \n",
       "4                 91000              54.670              Low (<964,000)   \n",
       "\n",
       "  Avg Household Income Categories Home Affordability Categories  \n",
       "0        Medium (106,666-152,333)                Medium (48-63)  \n",
       "1                  Low (<106,666)                    High (>63)  \n",
       "2                  Low (<106,666)                Medium (48-63)  \n",
       "3                  Low (<106,666)                     Low (<48)  \n",
       "4                  Low (<106,666)                Medium (48-63)  "
      ]
     },
     "execution_count": 27,
     "metadata": {},
     "output_type": "execute_result"
    }
   ],
   "source": [
    "# calculate the home affordability for each neighborhood\n",
    "avg_houseprice_income_df['Home Affordability']=avg_houseprice_income_df['Avg Household Income']/avg_houseprice_income_df['Avg House Price']\n",
    "avg_houseprice_income_df['Home Affordability']=avg_houseprice_income_df['Home Affordability']/avg_houseprice_income_df['Home Affordability'].max()\n",
    "avg_houseprice_income_df['Home Affordability']=avg_houseprice_income_df['Home Affordability']*100\n",
    "avg_houseprice_income_df['Home Affordability']=avg_houseprice_income_df['Home Affordability'].round(3)\n",
    "\n",
    "# get the categories of house price, household income and home affordability\n",
    "avg_houseprice_income_df=get_categories(avg_houseprice_income_df)\n",
    "avg_houseprice_income_df.head()"
   ]
  },
  {
   "cell_type": "markdown",
   "metadata": {},
   "source": [
    "#### III. Crime rate data\n",
    "Now, let's get the crime rate data by calling a REST API from Toronto Police Service and clean the data."
   ]
  },
  {
   "cell_type": "code",
   "execution_count": null,
   "metadata": {},
   "outputs": [],
   "source": [
    "import requests\n",
    "from pandas.io.json import json_normalize\n",
    "url = 'https://services.arcgis.com/S9th0jAJ7bqgIRjw/arcgis/rest/services/Neighbourhood_MCI/FeatureServer/0/query?where=1%3D1&outFields=Neighbourhood,Hood_ID,Population,Assault_AVG,AutoTheft_AVG,Homicide_AVG,TheftOver_AVG,BreakandEnter_AVG,Robbery_AVG&outSR=4326&f=json'\n",
    "results = requests.get(url).json()\n",
    "crime_data = results['features']\n",
    "dataframe = json_normalize(crime_data)"
   ]
  },
  {
   "cell_type": "code",
   "execution_count": null,
   "metadata": {},
   "outputs": [],
   "source": [
    "language_df = toronto_2016_df.loc[393:670]"
   ]
  },
  {
   "cell_type": "markdown",
   "metadata": {},
   "source": [
    "## 3. Methodology<a name=\"methodology\"></a>"
   ]
  },
  {
   "cell_type": "markdown",
   "metadata": {},
   "source": [
    "## 4. Results<a name=\"results\"></a>"
   ]
  },
  {
   "cell_type": "markdown",
   "metadata": {},
   "source": [
    "## 5. Discussion<a name=\"discussion\"></a>"
   ]
  },
  {
   "cell_type": "markdown",
   "metadata": {},
   "source": [
    "## 6. Conclusion<a name=\"conclusion\"></a>"
   ]
  },
  {
   "cell_type": "markdown",
   "metadata": {},
   "source": [
    "### Thank you for reading this notebook! Feel free to read the __[full report]()__ and the __[blogpost]()__ too! \n",
    "\n",
    "## Author  \n",
    "__[Titus Chin Jun Hong](https://www.linkedin.com/in/joseph-s-50398b136/)__  \n",
    "**13 November 2020**"
   ]
  }
 ],
 "metadata": {
  "kernelspec": {
   "display_name": "Python 3",
   "language": "python",
   "name": "python3"
  },
  "language_info": {
   "codemirror_mode": {
    "name": "ipython",
    "version": 3
   },
   "file_extension": ".py",
   "mimetype": "text/x-python",
   "name": "python",
   "nbconvert_exporter": "python",
   "pygments_lexer": "ipython3",
   "version": "3.8.5"
  }
 },
 "nbformat": 4,
 "nbformat_minor": 4
}
